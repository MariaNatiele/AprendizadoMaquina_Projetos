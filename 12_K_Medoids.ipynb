{
  "nbformat": 4,
  "nbformat_minor": 0,
  "metadata": {
    "colab": {
      "provenance": [],
      "authorship_tag": "ABX9TyN34fD3V0/7zSk5Bh/R1csn",
      "include_colab_link": true
    },
    "kernelspec": {
      "name": "python3",
      "display_name": "Python 3"
    },
    "language_info": {
      "name": "python"
    }
  },
  "cells": [
    {
      "cell_type": "markdown",
      "metadata": {
        "id": "view-in-github",
        "colab_type": "text"
      },
      "source": [
        "<a href=\"https://colab.research.google.com/github/MariaNatiele/AprendizadoMaquina_Projetos/blob/main/12_K_Medoids.ipynb\" target=\"_parent\"><img src=\"https://colab.research.google.com/assets/colab-badge.svg\" alt=\"Open In Colab\"/></a>"
      ]
    },
    {
      "cell_type": "markdown",
      "source": [
        "💻   Algoritmo de agrupamento K-Medoids\n",
        "\n",
        " </br>\n",
        "1- Fontes\n",
        "\n",
        "[Pyclustering](https://pypi.org/project/pyclustering/)"
      ],
      "metadata": {
        "id": "exwbDDQ3APx_"
      }
    },
    {
      "cell_type": "code",
      "source": [
        "#Install and Biblioteca\n",
        "\n",
        "!pip install pyclustering"
      ],
      "metadata": {
        "colab": {
          "base_uri": "https://localhost:8080/"
        },
        "id": "ZlLE8-wK_glE",
        "outputId": "460f226c-7776-42a1-84c1-19989c8777bc"
      },
      "execution_count": 1,
      "outputs": [
        {
          "output_type": "stream",
          "name": "stdout",
          "text": [
            "Requirement already satisfied: pyclustering in /usr/local/lib/python3.10/dist-packages (0.10.1.2)\n",
            "Requirement already satisfied: scipy>=1.1.0 in /usr/local/lib/python3.10/dist-packages (from pyclustering) (1.10.1)\n",
            "Requirement already satisfied: matplotlib>=3.0.0 in /usr/local/lib/python3.10/dist-packages (from pyclustering) (3.7.1)\n",
            "Requirement already satisfied: numpy>=1.15.2 in /usr/local/lib/python3.10/dist-packages (from pyclustering) (1.23.5)\n",
            "Requirement already satisfied: Pillow>=5.2.0 in /usr/local/lib/python3.10/dist-packages (from pyclustering) (9.4.0)\n",
            "Requirement already satisfied: contourpy>=1.0.1 in /usr/local/lib/python3.10/dist-packages (from matplotlib>=3.0.0->pyclustering) (1.1.0)\n",
            "Requirement already satisfied: cycler>=0.10 in /usr/local/lib/python3.10/dist-packages (from matplotlib>=3.0.0->pyclustering) (0.11.0)\n",
            "Requirement already satisfied: fonttools>=4.22.0 in /usr/local/lib/python3.10/dist-packages (from matplotlib>=3.0.0->pyclustering) (4.42.0)\n",
            "Requirement already satisfied: kiwisolver>=1.0.1 in /usr/local/lib/python3.10/dist-packages (from matplotlib>=3.0.0->pyclustering) (1.4.4)\n",
            "Requirement already satisfied: packaging>=20.0 in /usr/local/lib/python3.10/dist-packages (from matplotlib>=3.0.0->pyclustering) (23.1)\n",
            "Requirement already satisfied: pyparsing>=2.3.1 in /usr/local/lib/python3.10/dist-packages (from matplotlib>=3.0.0->pyclustering) (3.1.1)\n",
            "Requirement already satisfied: python-dateutil>=2.7 in /usr/local/lib/python3.10/dist-packages (from matplotlib>=3.0.0->pyclustering) (2.8.2)\n",
            "Requirement already satisfied: six>=1.5 in /usr/local/lib/python3.10/dist-packages (from python-dateutil>=2.7->matplotlib>=3.0.0->pyclustering) (1.16.0)\n"
          ]
        }
      ]
    },
    {
      "cell_type": "code",
      "execution_count": 2,
      "metadata": {
        "id": "_huZCVht-xOm"
      },
      "outputs": [],
      "source": [
        "#Bibliotecas\n",
        "\n",
        "from sklearn import datasets\n",
        "from sklearn.metrics import confusion_matrix\n",
        "import numpy as np\n",
        "#Clueter agrupadores\n",
        "from pyclustering.cluster.kmedians import kmedians\n",
        "from pyclustering.cluster import cluster_visualizer"
      ]
    },
    {
      "cell_type": "code",
      "source": [
        "#Carregando os dados\n",
        "iris  = datasets.load_iris()"
      ],
      "metadata": {
        "id": "_iK06q9iAOe0"
      },
      "execution_count": 3,
      "outputs": []
    },
    {
      "cell_type": "code",
      "source": [
        "#Cluster usando apenas 2 colunas\n",
        "modelo = kmedians(iris.data[:, 0:2], [3,12, 20])"
      ],
      "metadata": {
        "id": "mXubNAWhBAza"
      },
      "execution_count": 4,
      "outputs": []
    },
    {
      "cell_type": "code",
      "source": [
        "#visualizando [3,12,20]\n",
        "modelo.get_medians()"
      ],
      "metadata": {
        "colab": {
          "base_uri": "https://localhost:8080/"
        },
        "id": "buFaMw2bBCOL",
        "outputId": "718f61ac-721e-4919-8351-ef23fee200ef"
      },
      "execution_count": 5,
      "outputs": [
        {
          "output_type": "execute_result",
          "data": {
            "text/plain": [
              "[3, 12, 20]"
            ]
          },
          "metadata": {},
          "execution_count": 5
        }
      ]
    },
    {
      "cell_type": "code",
      "source": [
        "#Algoritmo de agrupamento sendo aplicado, get_medians() -> os centros que escolhemos\n",
        "#modelo.process()\n",
        "previsoes = modelo.get_clusters()\n",
        "medoides = modelo.get_medians()"
      ],
      "metadata": {
        "id": "BWnY7nFUDJ0d"
      },
      "execution_count": 6,
      "outputs": []
    },
    {
      "cell_type": "code",
      "source": [
        "#retona lista vazia, erro\n",
        "previsoes"
      ],
      "metadata": {
        "colab": {
          "base_uri": "https://localhost:8080/"
        },
        "id": "A4gwHWXIDJ37",
        "outputId": "b3f3dca2-2d57-4acd-c338-4a16e2440440"
      },
      "execution_count": 7,
      "outputs": [
        {
          "output_type": "execute_result",
          "data": {
            "text/plain": [
              "[]"
            ]
          },
          "metadata": {},
          "execution_count": 7
        }
      ]
    },
    {
      "cell_type": "code",
      "source": [
        "medoides"
      ],
      "metadata": {
        "colab": {
          "base_uri": "https://localhost:8080/"
        },
        "id": "qRRKOKOhJRRo",
        "outputId": "9fd67222-cfea-495d-e1d6-4053616d371f"
      },
      "execution_count": 8,
      "outputs": [
        {
          "output_type": "execute_result",
          "data": {
            "text/plain": [
              "[3, 12, 20]"
            ]
          },
          "metadata": {},
          "execution_count": 8
        }
      ]
    },
    {
      "cell_type": "code",
      "source": [
        "#Visualização de erro por causa das previsões que deu erro\n",
        "'''visao = cluster_visualizer()\n",
        "visao.append_cluster(previsoes, iris.data[:,0:2])\n",
        "visao.append_cluster(medoides, data = iris.data[:,0:2], marker='*', markersize=20)\n",
        "visao.show()'''"
      ],
      "metadata": {
        "colab": {
          "base_uri": "https://localhost:8080/",
          "height": 53
        },
        "id": "xCLKJdtpKUmp",
        "outputId": "dba60a0a-c509-48f0-b9a3-0ab4cb249d85"
      },
      "execution_count": 10,
      "outputs": [
        {
          "output_type": "execute_result",
          "data": {
            "text/plain": [
              "\"visao = cluster_visualizer()\\nvisao.append_cluster(previsoes, iris.data[:,0:2])\\nvisao.append_cluster(medoides, data = iris.data[:,0:2], marker='*', markersize=20)\\nvisao.show()\""
            ],
            "application/vnd.google.colaboratory.intrinsic+json": {
              "type": "string"
            }
          },
          "metadata": {},
          "execution_count": 10
        }
      ]
    },
    {
      "cell_type": "code",
      "source": [
        "#Lista de valores reais e outra do valores da base de dados\n",
        "lista_previsoes = []\n",
        "lista_real = []\n",
        "for i in range(len(previsoes)):\n",
        "  for x in range(len(previsoes[i])):\n",
        "    lista_previsoes.append[i]\n",
        "    lista_real.append(iris.target[previsoes[i][x]])"
      ],
      "metadata": {
        "id": "te5pQAZvKVFS"
      },
      "execution_count": 11,
      "outputs": []
    },
    {
      "cell_type": "code",
      "source": [
        "#comparação matriz de contigencia entre os dados reais e os grupos previsores\n",
        "lista_previsoes = np.asarray(lista_previsoes)\n",
        "lista_real = np.asarray(lista_real)\n",
        "resultado = confusion_matrix(lista_real,lista_previsoes )\n",
        "resultado"
      ],
      "metadata": {
        "colab": {
          "base_uri": "https://localhost:8080/"
        },
        "id": "4wApHTTLNbAb",
        "outputId": "12efb447-4820-4ca7-f88d-d16febdb4825"
      },
      "execution_count": 14,
      "outputs": [
        {
          "output_type": "execute_result",
          "data": {
            "text/plain": [
              "array([], shape=(0, 0), dtype=int64)"
            ]
          },
          "metadata": {},
          "execution_count": 14
        }
      ]
    },
    {
      "cell_type": "code",
      "source": [],
      "metadata": {
        "id": "mZobm1MeKVNZ"
      },
      "execution_count": 9,
      "outputs": []
    }
  ]
}