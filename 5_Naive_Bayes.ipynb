{
  "nbformat": 4,
  "nbformat_minor": 0,
  "metadata": {
    "colab": {
      "provenance": [],
      "authorship_tag": "ABX9TyPQ+T3s/73UUpZr8ed6nHFL",
      "include_colab_link": true
    },
    "kernelspec": {
      "name": "python3",
      "display_name": "Python 3"
    },
    "language_info": {
      "name": "python"
    }
  },
  "cells": [
    {
      "cell_type": "markdown",
      "metadata": {
        "id": "view-in-github",
        "colab_type": "text"
      },
      "source": [
        "<a href=\"https://colab.research.google.com/github/MariaNatiele/AprendizadoMaquina_Projetos/blob/main/5_Naive_Bayes.ipynb\" target=\"_parent\"><img src=\"https://colab.research.google.com/assets/colab-badge.svg\" alt=\"Open In Colab\"/></a>"
      ]
    },
    {
      "cell_type": "markdown",
      "source": [
        "#Naive Bayes\n",
        "\n",
        "1. Fontes\n",
        "\n",
        "1.1. [Naive Bayes](https://scikit-learn.org/stable/modules/classes.html#module-sklearn.naive_bayes) </br>\n",
        "1.2. [Como funciona](https://scikit-learn.org/stable/modules/naive_bayes.html#naive-bayes)"
      ],
      "metadata": {
        "id": "XP-L9lfmAdim"
      }
    },
    {
      "cell_type": "code",
      "execution_count": 90,
      "metadata": {
        "id": "IsbwVrPw5t8e"
      },
      "outputs": [],
      "source": [
        "from sklearn.naive_bayes import  GaussianNB\n",
        "from sklearn.model_selection import train_test_split\n",
        "from sklearn.preprocessing import LabelEncoder\n",
        "from sklearn.metrics import accuracy_score, confusion_matrix, precision_score, recall_score\n",
        "import pandas as pd\n",
        "import numpy as np"
      ]
    },
    {
      "cell_type": "code",
      "source": [
        "credito = pd.read_csv('Credit.csv')\n",
        "#credito.head()"
      ],
      "metadata": {
        "id": "3OcEWGGVfOTF"
      },
      "execution_count": 91,
      "outputs": []
    },
    {
      "cell_type": "code",
      "source": [
        "credito.shape"
      ],
      "metadata": {
        "colab": {
          "base_uri": "https://localhost:8080/"
        },
        "id": "34globApgiak",
        "outputId": "e6720a48-d3db-4b34-9556-c68bb7be324d"
      },
      "execution_count": 92,
      "outputs": [
        {
          "output_type": "execute_result",
          "data": {
            "text/plain": [
              "(1000, 21)"
            ]
          },
          "metadata": {},
          "execution_count": 92
        }
      ]
    },
    {
      "cell_type": "code",
      "source": [
        "credito.describe()"
      ],
      "metadata": {
        "colab": {
          "base_uri": "https://localhost:8080/",
          "height": 300
        },
        "id": "9AyRcpdsgkHn",
        "outputId": "a4c8cd5b-5ae7-4187-9de6-24b838bda0b0"
      },
      "execution_count": 93,
      "outputs": [
        {
          "output_type": "execute_result",
          "data": {
            "text/plain": [
              "          duration  credit_amount  installment_commitment  residence_since  \\\n",
              "count  1000.000000    1000.000000             1000.000000      1000.000000   \n",
              "mean     20.903000    3271.258000                2.973000         2.845000   \n",
              "std      12.058814    2822.736876                1.118715         1.103718   \n",
              "min       4.000000     250.000000                1.000000         1.000000   \n",
              "25%      12.000000    1365.500000                2.000000         2.000000   \n",
              "50%      18.000000    2319.500000                3.000000         3.000000   \n",
              "75%      24.000000    3972.250000                4.000000         4.000000   \n",
              "max      72.000000   18424.000000                4.000000         4.000000   \n",
              "\n",
              "               age  existing_credits  num_dependents  \n",
              "count  1000.000000       1000.000000     1000.000000  \n",
              "mean     35.546000          1.407000        1.155000  \n",
              "std      11.375469          0.577654        0.362086  \n",
              "min      19.000000          1.000000        1.000000  \n",
              "25%      27.000000          1.000000        1.000000  \n",
              "50%      33.000000          1.000000        1.000000  \n",
              "75%      42.000000          2.000000        1.000000  \n",
              "max      75.000000          4.000000        2.000000  "
            ],
            "text/html": [
              "\n",
              "  <div id=\"df-f67f3337-7e47-48e0-b70f-0ab887dd33c6\" class=\"colab-df-container\">\n",
              "    <div>\n",
              "<style scoped>\n",
              "    .dataframe tbody tr th:only-of-type {\n",
              "        vertical-align: middle;\n",
              "    }\n",
              "\n",
              "    .dataframe tbody tr th {\n",
              "        vertical-align: top;\n",
              "    }\n",
              "\n",
              "    .dataframe thead th {\n",
              "        text-align: right;\n",
              "    }\n",
              "</style>\n",
              "<table border=\"1\" class=\"dataframe\">\n",
              "  <thead>\n",
              "    <tr style=\"text-align: right;\">\n",
              "      <th></th>\n",
              "      <th>duration</th>\n",
              "      <th>credit_amount</th>\n",
              "      <th>installment_commitment</th>\n",
              "      <th>residence_since</th>\n",
              "      <th>age</th>\n",
              "      <th>existing_credits</th>\n",
              "      <th>num_dependents</th>\n",
              "    </tr>\n",
              "  </thead>\n",
              "  <tbody>\n",
              "    <tr>\n",
              "      <th>count</th>\n",
              "      <td>1000.000000</td>\n",
              "      <td>1000.000000</td>\n",
              "      <td>1000.000000</td>\n",
              "      <td>1000.000000</td>\n",
              "      <td>1000.000000</td>\n",
              "      <td>1000.000000</td>\n",
              "      <td>1000.000000</td>\n",
              "    </tr>\n",
              "    <tr>\n",
              "      <th>mean</th>\n",
              "      <td>20.903000</td>\n",
              "      <td>3271.258000</td>\n",
              "      <td>2.973000</td>\n",
              "      <td>2.845000</td>\n",
              "      <td>35.546000</td>\n",
              "      <td>1.407000</td>\n",
              "      <td>1.155000</td>\n",
              "    </tr>\n",
              "    <tr>\n",
              "      <th>std</th>\n",
              "      <td>12.058814</td>\n",
              "      <td>2822.736876</td>\n",
              "      <td>1.118715</td>\n",
              "      <td>1.103718</td>\n",
              "      <td>11.375469</td>\n",
              "      <td>0.577654</td>\n",
              "      <td>0.362086</td>\n",
              "    </tr>\n",
              "    <tr>\n",
              "      <th>min</th>\n",
              "      <td>4.000000</td>\n",
              "      <td>250.000000</td>\n",
              "      <td>1.000000</td>\n",
              "      <td>1.000000</td>\n",
              "      <td>19.000000</td>\n",
              "      <td>1.000000</td>\n",
              "      <td>1.000000</td>\n",
              "    </tr>\n",
              "    <tr>\n",
              "      <th>25%</th>\n",
              "      <td>12.000000</td>\n",
              "      <td>1365.500000</td>\n",
              "      <td>2.000000</td>\n",
              "      <td>2.000000</td>\n",
              "      <td>27.000000</td>\n",
              "      <td>1.000000</td>\n",
              "      <td>1.000000</td>\n",
              "    </tr>\n",
              "    <tr>\n",
              "      <th>50%</th>\n",
              "      <td>18.000000</td>\n",
              "      <td>2319.500000</td>\n",
              "      <td>3.000000</td>\n",
              "      <td>3.000000</td>\n",
              "      <td>33.000000</td>\n",
              "      <td>1.000000</td>\n",
              "      <td>1.000000</td>\n",
              "    </tr>\n",
              "    <tr>\n",
              "      <th>75%</th>\n",
              "      <td>24.000000</td>\n",
              "      <td>3972.250000</td>\n",
              "      <td>4.000000</td>\n",
              "      <td>4.000000</td>\n",
              "      <td>42.000000</td>\n",
              "      <td>2.000000</td>\n",
              "      <td>1.000000</td>\n",
              "    </tr>\n",
              "    <tr>\n",
              "      <th>max</th>\n",
              "      <td>72.000000</td>\n",
              "      <td>18424.000000</td>\n",
              "      <td>4.000000</td>\n",
              "      <td>4.000000</td>\n",
              "      <td>75.000000</td>\n",
              "      <td>4.000000</td>\n",
              "      <td>2.000000</td>\n",
              "    </tr>\n",
              "  </tbody>\n",
              "</table>\n",
              "</div>\n",
              "    <div class=\"colab-df-buttons\">\n",
              "\n",
              "  <div class=\"colab-df-container\">\n",
              "    <button class=\"colab-df-convert\" onclick=\"convertToInteractive('df-f67f3337-7e47-48e0-b70f-0ab887dd33c6')\"\n",
              "            title=\"Convert this dataframe to an interactive table.\"\n",
              "            style=\"display:none;\">\n",
              "\n",
              "  <svg xmlns=\"http://www.w3.org/2000/svg\" height=\"24px\" viewBox=\"0 -960 960 960\">\n",
              "    <path d=\"M120-120v-720h720v720H120Zm60-500h600v-160H180v160Zm220 220h160v-160H400v160Zm0 220h160v-160H400v160ZM180-400h160v-160H180v160Zm440 0h160v-160H620v160ZM180-180h160v-160H180v160Zm440 0h160v-160H620v160Z\"/>\n",
              "  </svg>\n",
              "    </button>\n",
              "\n",
              "  <style>\n",
              "    .colab-df-container {\n",
              "      display:flex;\n",
              "      gap: 12px;\n",
              "    }\n",
              "\n",
              "    .colab-df-convert {\n",
              "      background-color: #E8F0FE;\n",
              "      border: none;\n",
              "      border-radius: 50%;\n",
              "      cursor: pointer;\n",
              "      display: none;\n",
              "      fill: #1967D2;\n",
              "      height: 32px;\n",
              "      padding: 0 0 0 0;\n",
              "      width: 32px;\n",
              "    }\n",
              "\n",
              "    .colab-df-convert:hover {\n",
              "      background-color: #E2EBFA;\n",
              "      box-shadow: 0px 1px 2px rgba(60, 64, 67, 0.3), 0px 1px 3px 1px rgba(60, 64, 67, 0.15);\n",
              "      fill: #174EA6;\n",
              "    }\n",
              "\n",
              "    .colab-df-buttons div {\n",
              "      margin-bottom: 4px;\n",
              "    }\n",
              "\n",
              "    [theme=dark] .colab-df-convert {\n",
              "      background-color: #3B4455;\n",
              "      fill: #D2E3FC;\n",
              "    }\n",
              "\n",
              "    [theme=dark] .colab-df-convert:hover {\n",
              "      background-color: #434B5C;\n",
              "      box-shadow: 0px 1px 3px 1px rgba(0, 0, 0, 0.15);\n",
              "      filter: drop-shadow(0px 1px 2px rgba(0, 0, 0, 0.3));\n",
              "      fill: #FFFFFF;\n",
              "    }\n",
              "  </style>\n",
              "\n",
              "    <script>\n",
              "      const buttonEl =\n",
              "        document.querySelector('#df-f67f3337-7e47-48e0-b70f-0ab887dd33c6 button.colab-df-convert');\n",
              "      buttonEl.style.display =\n",
              "        google.colab.kernel.accessAllowed ? 'block' : 'none';\n",
              "\n",
              "      async function convertToInteractive(key) {\n",
              "        const element = document.querySelector('#df-f67f3337-7e47-48e0-b70f-0ab887dd33c6');\n",
              "        const dataTable =\n",
              "          await google.colab.kernel.invokeFunction('convertToInteractive',\n",
              "                                                    [key], {});\n",
              "        if (!dataTable) return;\n",
              "\n",
              "        const docLinkHtml = 'Like what you see? Visit the ' +\n",
              "          '<a target=\"_blank\" href=https://colab.research.google.com/notebooks/data_table.ipynb>data table notebook</a>'\n",
              "          + ' to learn more about interactive tables.';\n",
              "        element.innerHTML = '';\n",
              "        dataTable['output_type'] = 'display_data';\n",
              "        await google.colab.output.renderOutput(dataTable, element);\n",
              "        const docLink = document.createElement('div');\n",
              "        docLink.innerHTML = docLinkHtml;\n",
              "        element.appendChild(docLink);\n",
              "      }\n",
              "    </script>\n",
              "  </div>\n",
              "\n",
              "\n",
              "<div id=\"df-5f03b27d-62d8-4f89-8a7d-1b87f90c533b\">\n",
              "  <button class=\"colab-df-quickchart\" onclick=\"quickchart('df-5f03b27d-62d8-4f89-8a7d-1b87f90c533b')\"\n",
              "            title=\"Suggest charts.\"\n",
              "            style=\"display:none;\">\n",
              "\n",
              "<svg xmlns=\"http://www.w3.org/2000/svg\" height=\"24px\"viewBox=\"0 0 24 24\"\n",
              "     width=\"24px\">\n",
              "    <g>\n",
              "        <path d=\"M19 3H5c-1.1 0-2 .9-2 2v14c0 1.1.9 2 2 2h14c1.1 0 2-.9 2-2V5c0-1.1-.9-2-2-2zM9 17H7v-7h2v7zm4 0h-2V7h2v10zm4 0h-2v-4h2v4z\"/>\n",
              "    </g>\n",
              "</svg>\n",
              "  </button>\n",
              "\n",
              "<style>\n",
              "  .colab-df-quickchart {\n",
              "    background-color: #E8F0FE;\n",
              "    border: none;\n",
              "    border-radius: 50%;\n",
              "    cursor: pointer;\n",
              "    display: none;\n",
              "    fill: #1967D2;\n",
              "    height: 32px;\n",
              "    padding: 0 0 0 0;\n",
              "    width: 32px;\n",
              "  }\n",
              "\n",
              "  .colab-df-quickchart:hover {\n",
              "    background-color: #E2EBFA;\n",
              "    box-shadow: 0px 1px 2px rgba(60, 64, 67, 0.3), 0px 1px 3px 1px rgba(60, 64, 67, 0.15);\n",
              "    fill: #174EA6;\n",
              "  }\n",
              "\n",
              "  [theme=dark] .colab-df-quickchart {\n",
              "    background-color: #3B4455;\n",
              "    fill: #D2E3FC;\n",
              "  }\n",
              "\n",
              "  [theme=dark] .colab-df-quickchart:hover {\n",
              "    background-color: #434B5C;\n",
              "    box-shadow: 0px 1px 3px 1px rgba(0, 0, 0, 0.15);\n",
              "    filter: drop-shadow(0px 1px 2px rgba(0, 0, 0, 0.3));\n",
              "    fill: #FFFFFF;\n",
              "  }\n",
              "</style>\n",
              "\n",
              "  <script>\n",
              "    async function quickchart(key) {\n",
              "      const charts = await google.colab.kernel.invokeFunction(\n",
              "          'suggestCharts', [key], {});\n",
              "    }\n",
              "    (() => {\n",
              "      let quickchartButtonEl =\n",
              "        document.querySelector('#df-5f03b27d-62d8-4f89-8a7d-1b87f90c533b button');\n",
              "      quickchartButtonEl.style.display =\n",
              "        google.colab.kernel.accessAllowed ? 'block' : 'none';\n",
              "    })();\n",
              "  </script>\n",
              "</div>\n",
              "    </div>\n",
              "  </div>\n"
            ]
          },
          "metadata": {},
          "execution_count": 93
        }
      ]
    },
    {
      "cell_type": "code",
      "source": [
        "credito.info()"
      ],
      "metadata": {
        "colab": {
          "base_uri": "https://localhost:8080/"
        },
        "id": "q0buRH5vgrt7",
        "outputId": "6bedfc4e-aa0c-43ce-835e-e860f123bde1"
      },
      "execution_count": 94,
      "outputs": [
        {
          "output_type": "stream",
          "name": "stdout",
          "text": [
            "<class 'pandas.core.frame.DataFrame'>\n",
            "RangeIndex: 1000 entries, 0 to 999\n",
            "Data columns (total 21 columns):\n",
            " #   Column                  Non-Null Count  Dtype \n",
            "---  ------                  --------------  ----- \n",
            " 0   checking_status         1000 non-null   object\n",
            " 1   duration                1000 non-null   int64 \n",
            " 2   credit_history          1000 non-null   object\n",
            " 3   purpose                 1000 non-null   object\n",
            " 4   credit_amount           1000 non-null   int64 \n",
            " 5   savings_status          1000 non-null   object\n",
            " 6   employment              1000 non-null   object\n",
            " 7   installment_commitment  1000 non-null   int64 \n",
            " 8   personal_status         1000 non-null   object\n",
            " 9   other_parties           1000 non-null   object\n",
            " 10  residence_since         1000 non-null   int64 \n",
            " 11  property_magnitude      1000 non-null   object\n",
            " 12  age                     1000 non-null   int64 \n",
            " 13  other_payment_plans     1000 non-null   object\n",
            " 14  housing                 1000 non-null   object\n",
            " 15  existing_credits        1000 non-null   int64 \n",
            " 16  job                     1000 non-null   object\n",
            " 17  num_dependents          1000 non-null   int64 \n",
            " 18  own_telephone           1000 non-null   object\n",
            " 19  foreign_worker          1000 non-null   object\n",
            " 20  class                   1000 non-null   object\n",
            "dtypes: int64(7), object(14)\n",
            "memory usage: 164.2+ KB\n"
          ]
        }
      ]
    },
    {
      "cell_type": "code",
      "source": [
        "#Soma todos os null\n",
        "credito.isnull().sum()"
      ],
      "metadata": {
        "colab": {
          "base_uri": "https://localhost:8080/"
        },
        "id": "V1u6Fzj0gxhI",
        "outputId": "e6d1358f-d360-4152-a66b-8df6ce98de0d"
      },
      "execution_count": 95,
      "outputs": [
        {
          "output_type": "execute_result",
          "data": {
            "text/plain": [
              "checking_status           0\n",
              "duration                  0\n",
              "credit_history            0\n",
              "purpose                   0\n",
              "credit_amount             0\n",
              "savings_status            0\n",
              "employment                0\n",
              "installment_commitment    0\n",
              "personal_status           0\n",
              "other_parties             0\n",
              "residence_since           0\n",
              "property_magnitude        0\n",
              "age                       0\n",
              "other_payment_plans       0\n",
              "housing                   0\n",
              "existing_credits          0\n",
              "job                       0\n",
              "num_dependents            0\n",
              "own_telephone             0\n",
              "foreign_worker            0\n",
              "class                     0\n",
              "dtype: int64"
            ]
          },
          "metadata": {},
          "execution_count": 95
        }
      ]
    },
    {
      "cell_type": "code",
      "source": [
        "#Formato de matriz\n",
        "previsores = credito.iloc[:,0:20].values\n",
        "classe = credito.iloc[:,20].values"
      ],
      "metadata": {
        "id": "v6Vn_s5yg4zh"
      },
      "execution_count": 96,
      "outputs": []
    },
    {
      "cell_type": "markdown",
      "source": [
        "Referência: [LabelEncoder()](https://scikit-learn.org/stable/modules/generated/sklearn.preprocessing.LabelEncoder.html) </br>\n",
        "Entender como funciona por debaixo dos panos\n",
        "Transformação de atributos categóricos em numerico, passando o indice em cada coluna categórica\n",
        "Precisando criar um objeto para cada atributo categórico, o  LabelEncoder() para registrar o teste"
      ],
      "metadata": {
        "id": "GoZC-aW7k6O_"
      }
    },
    {
      "cell_type": "code",
      "source": [
        "labelecoador1 = LabelEncoder()\n",
        "previsores[:,0] = labelecoador1.fit_transform(previsores[:,0])\n",
        "\n",
        "\n",
        "labelecoador2 = LabelEncoder()\n",
        "previsores[:,2] = labelecoador2.fit_transform(previsores[:,2])\n",
        "\n",
        "labelecoador3 = LabelEncoder()\n",
        "previsores[:,3] = labelecoador3.fit_transform(previsores[:,3])\n",
        "\n",
        "labelecoador4 = LabelEncoder()\n",
        "previsores[:,5] = labelecoador4.fit_transform(previsores[:,5])\n",
        "\n",
        "labelecoador5 = LabelEncoder()\n",
        "previsores[:,6] = labelecoador5.fit_transform(previsores[:,6])\n",
        "\n",
        "labelecoador6 = LabelEncoder()\n",
        "previsores[:,8] = labelecoador6.fit_transform(previsores[:,8])\n",
        "\n",
        "labelecoador7 = LabelEncoder()\n",
        "previsores[:,9] = labelecoador7.fit_transform(previsores[:,9])\n",
        "\n",
        "labelecoador8 = LabelEncoder()\n",
        "previsores[:,11] = labelecoador8.fit_transform(previsores[:,11])\n",
        "\n",
        "labelecoador9 = LabelEncoder()\n",
        "previsores[:,13] = labelecoador9.fit_transform(previsores[:,13])\n",
        "\n",
        "labelecoador10 = LabelEncoder()\n",
        "previsores[:,14] = labelecoador10.fit_transform(previsores[:,14])\n",
        "\n",
        "labelecoador11 = LabelEncoder()\n",
        "previsores[:,16] = labelecoador11.fit_transform(previsores[:,16])\n",
        "\n",
        "labelecoador12 = LabelEncoder()\n",
        "previsores[:,18] = labelecoador12.fit_transform(previsores[:,18])\n",
        "\n",
        "labelecoador13 = LabelEncoder()\n",
        "previsores[:,19] = labelecoador13.fit_transform(previsores[:,19])\n",
        "\n"
      ],
      "metadata": {
        "id": "EDsiAaWKhLEO"
      },
      "execution_count": 97,
      "outputs": []
    },
    {
      "cell_type": "code",
      "source": [
        "previsores"
      ],
      "metadata": {
        "colab": {
          "base_uri": "https://localhost:8080/"
        },
        "id": "urI3jlbzi047",
        "outputId": "3c7ac6d6-3a0c-4501-9d63-f310d1ca7956"
      },
      "execution_count": 98,
      "outputs": [
        {
          "output_type": "execute_result",
          "data": {
            "text/plain": [
              "array([[2, 6, 1, ..., 1, 1, 1],\n",
              "       [1, 48, 3, ..., 1, 0, 1],\n",
              "       [0, 12, 1, ..., 2, 0, 1],\n",
              "       ...,\n",
              "       [0, 12, 3, ..., 1, 0, 1],\n",
              "       [2, 45, 3, ..., 1, 1, 1],\n",
              "       [1, 45, 1, ..., 1, 0, 1]], dtype=object)"
            ]
          },
          "metadata": {},
          "execution_count": 98
        }
      ]
    },
    {
      "cell_type": "markdown",
      "source": [
        "Separando treino 70% e teste 30%, X são as variaveis independentes e Y é dependente"
      ],
      "metadata": {
        "id": "HRNYTGCznLj9"
      }
    },
    {
      "cell_type": "code",
      "source": [
        "\n",
        "x_treino, x_teste, y_treino, y_teste = train_test_split(previsores, classe, test_size=0.3, random_state=0)"
      ],
      "metadata": {
        "id": "fMwKMvdBhrBS"
      },
      "execution_count": 99,
      "outputs": []
    },
    {
      "cell_type": "code",
      "source": [
        "#crianado e treinando o modelo Naive Bayes\n",
        "naive_bayes = GaussianNB()\n",
        "naive_bayes.fit(x_treino, y_treino)"
      ],
      "metadata": {
        "colab": {
          "base_uri": "https://localhost:8080/",
          "height": 75
        },
        "id": "7YmY9JwjwH4w",
        "outputId": "c0e6560b-569d-418c-843b-7df0ba504651"
      },
      "execution_count": 100,
      "outputs": [
        {
          "output_type": "execute_result",
          "data": {
            "text/plain": [
              "GaussianNB()"
            ],
            "text/html": [
              "<style>#sk-container-id-5 {color: black;background-color: white;}#sk-container-id-5 pre{padding: 0;}#sk-container-id-5 div.sk-toggleable {background-color: white;}#sk-container-id-5 label.sk-toggleable__label {cursor: pointer;display: block;width: 100%;margin-bottom: 0;padding: 0.3em;box-sizing: border-box;text-align: center;}#sk-container-id-5 label.sk-toggleable__label-arrow:before {content: \"▸\";float: left;margin-right: 0.25em;color: #696969;}#sk-container-id-5 label.sk-toggleable__label-arrow:hover:before {color: black;}#sk-container-id-5 div.sk-estimator:hover label.sk-toggleable__label-arrow:before {color: black;}#sk-container-id-5 div.sk-toggleable__content {max-height: 0;max-width: 0;overflow: hidden;text-align: left;background-color: #f0f8ff;}#sk-container-id-5 div.sk-toggleable__content pre {margin: 0.2em;color: black;border-radius: 0.25em;background-color: #f0f8ff;}#sk-container-id-5 input.sk-toggleable__control:checked~div.sk-toggleable__content {max-height: 200px;max-width: 100%;overflow: auto;}#sk-container-id-5 input.sk-toggleable__control:checked~label.sk-toggleable__label-arrow:before {content: \"▾\";}#sk-container-id-5 div.sk-estimator input.sk-toggleable__control:checked~label.sk-toggleable__label {background-color: #d4ebff;}#sk-container-id-5 div.sk-label input.sk-toggleable__control:checked~label.sk-toggleable__label {background-color: #d4ebff;}#sk-container-id-5 input.sk-hidden--visually {border: 0;clip: rect(1px 1px 1px 1px);clip: rect(1px, 1px, 1px, 1px);height: 1px;margin: -1px;overflow: hidden;padding: 0;position: absolute;width: 1px;}#sk-container-id-5 div.sk-estimator {font-family: monospace;background-color: #f0f8ff;border: 1px dotted black;border-radius: 0.25em;box-sizing: border-box;margin-bottom: 0.5em;}#sk-container-id-5 div.sk-estimator:hover {background-color: #d4ebff;}#sk-container-id-5 div.sk-parallel-item::after {content: \"\";width: 100%;border-bottom: 1px solid gray;flex-grow: 1;}#sk-container-id-5 div.sk-label:hover label.sk-toggleable__label {background-color: #d4ebff;}#sk-container-id-5 div.sk-serial::before {content: \"\";position: absolute;border-left: 1px solid gray;box-sizing: border-box;top: 0;bottom: 0;left: 50%;z-index: 0;}#sk-container-id-5 div.sk-serial {display: flex;flex-direction: column;align-items: center;background-color: white;padding-right: 0.2em;padding-left: 0.2em;position: relative;}#sk-container-id-5 div.sk-item {position: relative;z-index: 1;}#sk-container-id-5 div.sk-parallel {display: flex;align-items: stretch;justify-content: center;background-color: white;position: relative;}#sk-container-id-5 div.sk-item::before, #sk-container-id-5 div.sk-parallel-item::before {content: \"\";position: absolute;border-left: 1px solid gray;box-sizing: border-box;top: 0;bottom: 0;left: 50%;z-index: -1;}#sk-container-id-5 div.sk-parallel-item {display: flex;flex-direction: column;z-index: 1;position: relative;background-color: white;}#sk-container-id-5 div.sk-parallel-item:first-child::after {align-self: flex-end;width: 50%;}#sk-container-id-5 div.sk-parallel-item:last-child::after {align-self: flex-start;width: 50%;}#sk-container-id-5 div.sk-parallel-item:only-child::after {width: 0;}#sk-container-id-5 div.sk-dashed-wrapped {border: 1px dashed gray;margin: 0 0.4em 0.5em 0.4em;box-sizing: border-box;padding-bottom: 0.4em;background-color: white;}#sk-container-id-5 div.sk-label label {font-family: monospace;font-weight: bold;display: inline-block;line-height: 1.2em;}#sk-container-id-5 div.sk-label-container {text-align: center;}#sk-container-id-5 div.sk-container {/* jupyter's `normalize.less` sets `[hidden] { display: none; }` but bootstrap.min.css set `[hidden] { display: none !important; }` so we also need the `!important` here to be able to override the default hidden behavior on the sphinx rendered scikit-learn.org. See: https://github.com/scikit-learn/scikit-learn/issues/21755 */display: inline-block !important;position: relative;}#sk-container-id-5 div.sk-text-repr-fallback {display: none;}</style><div id=\"sk-container-id-5\" class=\"sk-top-container\"><div class=\"sk-text-repr-fallback\"><pre>GaussianNB()</pre><b>In a Jupyter environment, please rerun this cell to show the HTML representation or trust the notebook. <br />On GitHub, the HTML representation is unable to render, please try loading this page with nbviewer.org.</b></div><div class=\"sk-container\" hidden><div class=\"sk-item\"><div class=\"sk-estimator sk-toggleable\"><input class=\"sk-toggleable__control sk-hidden--visually\" id=\"sk-estimator-id-5\" type=\"checkbox\" checked><label for=\"sk-estimator-id-5\" class=\"sk-toggleable__label sk-toggleable__label-arrow\">GaussianNB</label><div class=\"sk-toggleable__content\"><pre>GaussianNB()</pre></div></div></div></div></div>"
            ]
          },
          "metadata": {},
          "execution_count": 100
        }
      ]
    },
    {
      "cell_type": "code",
      "source": [
        "#Testar o modelo\n",
        "previsao = naive_bayes.predict(x_teste)\n",
        "previsao"
      ],
      "metadata": {
        "colab": {
          "base_uri": "https://localhost:8080/"
        },
        "id": "q98X7ArhwnlS",
        "outputId": "0714366d-b1e3-4d4e-b392-01705b355f76"
      },
      "execution_count": 101,
      "outputs": [
        {
          "output_type": "execute_result",
          "data": {
            "text/plain": [
              "array(['bad', 'good', 'good', 'good', 'bad', 'good', 'good', 'good',\n",
              "       'good', 'bad', 'bad', 'bad', 'good', 'bad', 'good', 'good', 'good',\n",
              "       'good', 'bad', 'good', 'bad', 'good', 'bad', 'good', 'good', 'bad',\n",
              "       'good', 'good', 'good', 'bad', 'good', 'good', 'good', 'good',\n",
              "       'good', 'bad', 'good', 'good', 'good', 'good', 'good', 'bad',\n",
              "       'good', 'good', 'good', 'bad', 'bad', 'bad', 'bad', 'bad', 'good',\n",
              "       'bad', 'good', 'good', 'good', 'good', 'bad', 'good', 'good',\n",
              "       'good', 'bad', 'good', 'good', 'good', 'good', 'good', 'good',\n",
              "       'good', 'bad', 'good', 'good', 'good', 'good', 'good', 'bad',\n",
              "       'good', 'good', 'good', 'good', 'good', 'good', 'good', 'good',\n",
              "       'bad', 'good', 'good', 'bad', 'bad', 'good', 'bad', 'good', 'good',\n",
              "       'good', 'good', 'good', 'good', 'good', 'good', 'good', 'good',\n",
              "       'good', 'good', 'good', 'bad', 'good', 'good', 'bad', 'bad',\n",
              "       'good', 'good', 'good', 'bad', 'good', 'good', 'bad', 'good',\n",
              "       'good', 'good', 'good', 'bad', 'bad', 'good', 'good', 'bad',\n",
              "       'good', 'good', 'good', 'good', 'good', 'good', 'good', 'good',\n",
              "       'bad', 'good', 'good', 'good', 'good', 'good', 'good', 'bad',\n",
              "       'bad', 'bad', 'good', 'bad', 'good', 'good', 'good', 'bad', 'bad',\n",
              "       'bad', 'good', 'good', 'good', 'good', 'good', 'good', 'good',\n",
              "       'good', 'good', 'good', 'bad', 'bad', 'bad', 'good', 'bad', 'bad',\n",
              "       'good', 'good', 'good', 'good', 'bad', 'good', 'bad', 'bad',\n",
              "       'good', 'good', 'good', 'bad', 'good', 'good', 'good', 'good',\n",
              "       'bad', 'bad', 'good', 'bad', 'good', 'good', 'good', 'good',\n",
              "       'good', 'bad', 'good', 'good', 'good', 'good', 'good', 'good',\n",
              "       'good', 'good', 'good', 'bad', 'bad', 'good', 'good', 'good',\n",
              "       'bad', 'good', 'good', 'good', 'bad', 'bad', 'bad', 'good', 'bad',\n",
              "       'good', 'good', 'bad', 'good', 'bad', 'bad', 'good', 'good',\n",
              "       'good', 'good', 'bad', 'good', 'bad', 'bad', 'good', 'good',\n",
              "       'good', 'good', 'good', 'bad', 'good', 'good', 'good', 'bad',\n",
              "       'bad', 'good', 'good', 'good', 'good', 'good', 'bad', 'good',\n",
              "       'good', 'good', 'good', 'good', 'bad', 'good', 'good', 'good',\n",
              "       'good', 'good', 'bad', 'good', 'good', 'bad', 'good', 'good',\n",
              "       'good', 'bad', 'bad', 'bad', 'good', 'good', 'good', 'good',\n",
              "       'good', 'good', 'good', 'bad', 'good', 'good', 'bad', 'good',\n",
              "       'good', 'good', 'good', 'good', 'good', 'good', 'good', 'good',\n",
              "       'good', 'good', 'good', 'good', 'good', 'good', 'good', 'good',\n",
              "       'good', 'bad', 'good', 'bad', 'good'], dtype='<U4')"
            ]
          },
          "metadata": {},
          "execution_count": 101
        }
      ]
    },
    {
      "cell_type": "code",
      "source": [
        "#Previsão com o que aconteceu, na diagonal estão os erros ?? Acertos: 41 e 172\n",
        "confusao  = confusion_matrix(y_teste, previsao)\n",
        "confusao"
      ],
      "metadata": {
        "colab": {
          "base_uri": "https://localhost:8080/"
        },
        "id": "U52uHcnfxNPx",
        "outputId": "e7ccde6e-470d-456d-fa8a-8e3919696ebf"
      },
      "execution_count": 102,
      "outputs": [
        {
          "output_type": "execute_result",
          "data": {
            "text/plain": [
              "array([[ 41,  45],\n",
              "       [ 42, 172]])"
            ]
          },
          "metadata": {},
          "execution_count": 102
        }
      ]
    },
    {
      "cell_type": "code",
      "source": [
        "#Avaliando o modelo, medindo a taxa de acerto e a de erro(1 - acerto)\n",
        "taxa_acerto = accuracy_score(y_teste, previsao)\n",
        "\n",
        "taxa_erro = 1 - taxa_acerto"
      ],
      "metadata": {
        "id": "mnxBfaFWyMPy"
      },
      "execution_count": 103,
      "outputs": []
    },
    {
      "cell_type": "code",
      "source": [
        "taxa_erro * 100"
      ],
      "metadata": {
        "colab": {
          "base_uri": "https://localhost:8080/"
        },
        "id": "AD64wgq_z4NO",
        "outputId": "a11a3fdb-0e06-4a51-f657-a22f5b0c26c7"
      },
      "execution_count": 104,
      "outputs": [
        {
          "output_type": "execute_result",
          "data": {
            "text/plain": [
              "29.000000000000004"
            ]
          },
          "metadata": {},
          "execution_count": 104
        }
      ]
    },
    {
      "cell_type": "code",
      "source": [
        "taxa_acerto * 100"
      ],
      "metadata": {
        "colab": {
          "base_uri": "https://localhost:8080/"
        },
        "id": "QwEsDjgFzsef",
        "outputId": "e3206c1c-a9be-4c0e-b361-96e2ce16f504"
      },
      "execution_count": 105,
      "outputs": [
        {
          "output_type": "execute_result",
          "data": {
            "text/plain": [
              "71.0"
            ]
          },
          "metadata": {},
          "execution_count": 105
        }
      ]
    },
    {
      "cell_type": "code",
      "source": [
        "#Visualizando a matriz de confusão\n",
        "'''v = confusion_matrix(GaussianNB())\n",
        "v.fit(x_treino,y_treino)\n",
        "v.score(x_teste,y_teste)\n",
        "v.poof()'''"
      ],
      "metadata": {
        "colab": {
          "base_uri": "https://localhost:8080/",
          "height": 35
        },
        "id": "OtQp1-m4nhdX",
        "outputId": "767864c3-a55b-453e-d759-2a0a1a7f19c2"
      },
      "execution_count": 106,
      "outputs": [
        {
          "output_type": "execute_result",
          "data": {
            "text/plain": [
              "'v = confusion_matrix(GaussianNB())\\nv.fit(x_treino,y_treino)\\nv.score(x_teste,y_teste)\\nv.poof()'"
            ],
            "application/vnd.google.colaboratory.intrinsic+json": {
              "type": "string"
            }
          },
          "metadata": {},
          "execution_count": 106
        }
      ]
    },
    {
      "cell_type": "code",
      "source": [
        "#Novo cliente\n",
        "novo_cliente = pd.read_csv('NovoCredit.csv')\n",
        "novo_cliente.shape"
      ],
      "metadata": {
        "colab": {
          "base_uri": "https://localhost:8080/"
        },
        "id": "6b2dhDxwqGOZ",
        "outputId": "f43407ca-2740-4af2-f8aa-702a61402681"
      },
      "execution_count": 107,
      "outputs": [
        {
          "output_type": "execute_result",
          "data": {
            "text/plain": [
              "(1, 20)"
            ]
          },
          "metadata": {},
          "execution_count": 107
        }
      ]
    },
    {
      "cell_type": "code",
      "source": [
        "novo_cliente.head()"
      ],
      "metadata": {
        "colab": {
          "base_uri": "https://localhost:8080/",
          "height": 109
        },
        "id": "jQSMtRdNrXfj",
        "outputId": "cd185262-7287-4e7a-ef44-550ae5d87cb3"
      },
      "execution_count": 108,
      "outputs": [
        {
          "output_type": "execute_result",
          "data": {
            "text/plain": [
              "  checking_status  duration   credit_history   purpose  credit_amount  \\\n",
              "0   'no checking'        12  'existing paid'  radio/tv            804   \n",
              "\n",
              "  savings_status employment  installment_commitment personal_status  \\\n",
              "0           <100        >=7                       4   'male single'   \n",
              "\n",
              "  other_parties  residence_since property_magnitude  age other_payment_plans  \\\n",
              "0          none                4                car   38                none   \n",
              "\n",
              "  housing  existing_credits      job  num_dependents own_telephone  \\\n",
              "0     own                 1  skilled               1          none   \n",
              "\n",
              "  foreign_worker  \n",
              "0            yes  "
            ],
            "text/html": [
              "\n",
              "  <div id=\"df-0662c585-7158-4657-a380-7e3c8e1afd30\" class=\"colab-df-container\">\n",
              "    <div>\n",
              "<style scoped>\n",
              "    .dataframe tbody tr th:only-of-type {\n",
              "        vertical-align: middle;\n",
              "    }\n",
              "\n",
              "    .dataframe tbody tr th {\n",
              "        vertical-align: top;\n",
              "    }\n",
              "\n",
              "    .dataframe thead th {\n",
              "        text-align: right;\n",
              "    }\n",
              "</style>\n",
              "<table border=\"1\" class=\"dataframe\">\n",
              "  <thead>\n",
              "    <tr style=\"text-align: right;\">\n",
              "      <th></th>\n",
              "      <th>checking_status</th>\n",
              "      <th>duration</th>\n",
              "      <th>credit_history</th>\n",
              "      <th>purpose</th>\n",
              "      <th>credit_amount</th>\n",
              "      <th>savings_status</th>\n",
              "      <th>employment</th>\n",
              "      <th>installment_commitment</th>\n",
              "      <th>personal_status</th>\n",
              "      <th>other_parties</th>\n",
              "      <th>residence_since</th>\n",
              "      <th>property_magnitude</th>\n",
              "      <th>age</th>\n",
              "      <th>other_payment_plans</th>\n",
              "      <th>housing</th>\n",
              "      <th>existing_credits</th>\n",
              "      <th>job</th>\n",
              "      <th>num_dependents</th>\n",
              "      <th>own_telephone</th>\n",
              "      <th>foreign_worker</th>\n",
              "    </tr>\n",
              "  </thead>\n",
              "  <tbody>\n",
              "    <tr>\n",
              "      <th>0</th>\n",
              "      <td>'no checking'</td>\n",
              "      <td>12</td>\n",
              "      <td>'existing paid'</td>\n",
              "      <td>radio/tv</td>\n",
              "      <td>804</td>\n",
              "      <td>&lt;100</td>\n",
              "      <td>&gt;=7</td>\n",
              "      <td>4</td>\n",
              "      <td>'male single'</td>\n",
              "      <td>none</td>\n",
              "      <td>4</td>\n",
              "      <td>car</td>\n",
              "      <td>38</td>\n",
              "      <td>none</td>\n",
              "      <td>own</td>\n",
              "      <td>1</td>\n",
              "      <td>skilled</td>\n",
              "      <td>1</td>\n",
              "      <td>none</td>\n",
              "      <td>yes</td>\n",
              "    </tr>\n",
              "  </tbody>\n",
              "</table>\n",
              "</div>\n",
              "    <div class=\"colab-df-buttons\">\n",
              "\n",
              "  <div class=\"colab-df-container\">\n",
              "    <button class=\"colab-df-convert\" onclick=\"convertToInteractive('df-0662c585-7158-4657-a380-7e3c8e1afd30')\"\n",
              "            title=\"Convert this dataframe to an interactive table.\"\n",
              "            style=\"display:none;\">\n",
              "\n",
              "  <svg xmlns=\"http://www.w3.org/2000/svg\" height=\"24px\" viewBox=\"0 -960 960 960\">\n",
              "    <path d=\"M120-120v-720h720v720H120Zm60-500h600v-160H180v160Zm220 220h160v-160H400v160Zm0 220h160v-160H400v160ZM180-400h160v-160H180v160Zm440 0h160v-160H620v160ZM180-180h160v-160H180v160Zm440 0h160v-160H620v160Z\"/>\n",
              "  </svg>\n",
              "    </button>\n",
              "\n",
              "  <style>\n",
              "    .colab-df-container {\n",
              "      display:flex;\n",
              "      gap: 12px;\n",
              "    }\n",
              "\n",
              "    .colab-df-convert {\n",
              "      background-color: #E8F0FE;\n",
              "      border: none;\n",
              "      border-radius: 50%;\n",
              "      cursor: pointer;\n",
              "      display: none;\n",
              "      fill: #1967D2;\n",
              "      height: 32px;\n",
              "      padding: 0 0 0 0;\n",
              "      width: 32px;\n",
              "    }\n",
              "\n",
              "    .colab-df-convert:hover {\n",
              "      background-color: #E2EBFA;\n",
              "      box-shadow: 0px 1px 2px rgba(60, 64, 67, 0.3), 0px 1px 3px 1px rgba(60, 64, 67, 0.15);\n",
              "      fill: #174EA6;\n",
              "    }\n",
              "\n",
              "    .colab-df-buttons div {\n",
              "      margin-bottom: 4px;\n",
              "    }\n",
              "\n",
              "    [theme=dark] .colab-df-convert {\n",
              "      background-color: #3B4455;\n",
              "      fill: #D2E3FC;\n",
              "    }\n",
              "\n",
              "    [theme=dark] .colab-df-convert:hover {\n",
              "      background-color: #434B5C;\n",
              "      box-shadow: 0px 1px 3px 1px rgba(0, 0, 0, 0.15);\n",
              "      filter: drop-shadow(0px 1px 2px rgba(0, 0, 0, 0.3));\n",
              "      fill: #FFFFFF;\n",
              "    }\n",
              "  </style>\n",
              "\n",
              "    <script>\n",
              "      const buttonEl =\n",
              "        document.querySelector('#df-0662c585-7158-4657-a380-7e3c8e1afd30 button.colab-df-convert');\n",
              "      buttonEl.style.display =\n",
              "        google.colab.kernel.accessAllowed ? 'block' : 'none';\n",
              "\n",
              "      async function convertToInteractive(key) {\n",
              "        const element = document.querySelector('#df-0662c585-7158-4657-a380-7e3c8e1afd30');\n",
              "        const dataTable =\n",
              "          await google.colab.kernel.invokeFunction('convertToInteractive',\n",
              "                                                    [key], {});\n",
              "        if (!dataTable) return;\n",
              "\n",
              "        const docLinkHtml = 'Like what you see? Visit the ' +\n",
              "          '<a target=\"_blank\" href=https://colab.research.google.com/notebooks/data_table.ipynb>data table notebook</a>'\n",
              "          + ' to learn more about interactive tables.';\n",
              "        element.innerHTML = '';\n",
              "        dataTable['output_type'] = 'display_data';\n",
              "        await google.colab.output.renderOutput(dataTable, element);\n",
              "        const docLink = document.createElement('div');\n",
              "        docLink.innerHTML = docLinkHtml;\n",
              "        element.appendChild(docLink);\n",
              "      }\n",
              "    </script>\n",
              "  </div>\n",
              "\n",
              "\n",
              "<div id=\"df-3b504014-fa9d-4ae3-891a-d28abf38f356\">\n",
              "  <button class=\"colab-df-quickchart\" onclick=\"quickchart('df-3b504014-fa9d-4ae3-891a-d28abf38f356')\"\n",
              "            title=\"Suggest charts.\"\n",
              "            style=\"display:none;\">\n",
              "\n",
              "<svg xmlns=\"http://www.w3.org/2000/svg\" height=\"24px\"viewBox=\"0 0 24 24\"\n",
              "     width=\"24px\">\n",
              "    <g>\n",
              "        <path d=\"M19 3H5c-1.1 0-2 .9-2 2v14c0 1.1.9 2 2 2h14c1.1 0 2-.9 2-2V5c0-1.1-.9-2-2-2zM9 17H7v-7h2v7zm4 0h-2V7h2v10zm4 0h-2v-4h2v4z\"/>\n",
              "    </g>\n",
              "</svg>\n",
              "  </button>\n",
              "\n",
              "<style>\n",
              "  .colab-df-quickchart {\n",
              "    background-color: #E8F0FE;\n",
              "    border: none;\n",
              "    border-radius: 50%;\n",
              "    cursor: pointer;\n",
              "    display: none;\n",
              "    fill: #1967D2;\n",
              "    height: 32px;\n",
              "    padding: 0 0 0 0;\n",
              "    width: 32px;\n",
              "  }\n",
              "\n",
              "  .colab-df-quickchart:hover {\n",
              "    background-color: #E2EBFA;\n",
              "    box-shadow: 0px 1px 2px rgba(60, 64, 67, 0.3), 0px 1px 3px 1px rgba(60, 64, 67, 0.15);\n",
              "    fill: #174EA6;\n",
              "  }\n",
              "\n",
              "  [theme=dark] .colab-df-quickchart {\n",
              "    background-color: #3B4455;\n",
              "    fill: #D2E3FC;\n",
              "  }\n",
              "\n",
              "  [theme=dark] .colab-df-quickchart:hover {\n",
              "    background-color: #434B5C;\n",
              "    box-shadow: 0px 1px 3px 1px rgba(0, 0, 0, 0.15);\n",
              "    filter: drop-shadow(0px 1px 2px rgba(0, 0, 0, 0.3));\n",
              "    fill: #FFFFFF;\n",
              "  }\n",
              "</style>\n",
              "\n",
              "  <script>\n",
              "    async function quickchart(key) {\n",
              "      const charts = await google.colab.kernel.invokeFunction(\n",
              "          'suggestCharts', [key], {});\n",
              "    }\n",
              "    (() => {\n",
              "      let quickchartButtonEl =\n",
              "        document.querySelector('#df-3b504014-fa9d-4ae3-891a-d28abf38f356 button');\n",
              "      quickchartButtonEl.style.display =\n",
              "        google.colab.kernel.accessAllowed ? 'block' : 'none';\n",
              "    })();\n",
              "  </script>\n",
              "</div>\n",
              "    </div>\n",
              "  </div>\n"
            ]
          },
          "metadata": {},
          "execution_count": 108
        }
      ]
    },
    {
      "cell_type": "code",
      "source": [
        "#transformando os dados\n",
        "#Usando o mesmo objeto para mantesr o padrão dos dados, usando apenas o transform pois o (fit) já treinou\n",
        "novo_cliente = novo_cliente.iloc[:,0:20].values\n",
        "novo_cliente[:,0] = labelecoador1.transform(novo_cliente[:,0])\n",
        "novo_cliente[:,2] = labelecoador2.transform(novo_cliente[:,2])\n",
        "novo_cliente[:,3] = labelecoador3.transform(novo_cliente[:,3])\n",
        "novo_cliente[:,5] = labelecoador4.transform(novo_cliente[:,5])\n",
        "novo_cliente[:,6] = labelecoador5.transform(novo_cliente[:,6])\n",
        "novo_cliente[:,8] = labelecoador6.transform(novo_cliente[:,8])\n",
        "novo_cliente[:,9] = labelecoador7.transform(novo_cliente[:,9])\n",
        "novo_cliente[:,11] = labelecoador8.transform(novo_cliente[:,11])\n",
        "novo_cliente[:,13] = labelecoador9.transform(novo_cliente[:,13])\n",
        "novo_cliente[:,14] = labelecoador10.transform(novo_cliente[:,14])\n",
        "novo_cliente[:,16] = labelecoador11.transform(novo_cliente[:,16])\n",
        "novo_cliente[:,18] = labelecoador12.transform(novo_cliente[:,18])\n",
        "novo_cliente[:,19] = labelecoador13.transform(novo_cliente[:,19])"
      ],
      "metadata": {
        "id": "UYqlEXDRrzYa"
      },
      "execution_count": 109,
      "outputs": []
    },
    {
      "cell_type": "code",
      "source": [
        "#Prevendo\n",
        "naive_bayes.predict(novo_cliente)"
      ],
      "metadata": {
        "colab": {
          "base_uri": "https://localhost:8080/"
        },
        "id": "lRABIhN6t8-8",
        "outputId": "9cb295d4-a399-47e7-cd7f-6a8762039e18"
      },
      "execution_count": 110,
      "outputs": [
        {
          "output_type": "execute_result",
          "data": {
            "text/plain": [
              "array(['good'], dtype='<U4')"
            ]
          },
          "metadata": {},
          "execution_count": 110
        }
      ]
    }
  ]
}