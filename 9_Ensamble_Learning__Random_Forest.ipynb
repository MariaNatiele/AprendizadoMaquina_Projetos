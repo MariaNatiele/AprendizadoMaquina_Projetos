{
  "nbformat": 4,
  "nbformat_minor": 0,
  "metadata": {
    "colab": {
      "provenance": [],
      "authorship_tag": "ABX9TyPp5dWDMNvAkZ40XyUnAIau",
      "include_colab_link": true
    },
    "kernelspec": {
      "name": "python3",
      "display_name": "Python 3"
    },
    "language_info": {
      "name": "python"
    }
  },
  "cells": [
    {
      "cell_type": "markdown",
      "metadata": {
        "id": "view-in-github",
        "colab_type": "text"
      },
      "source": [
        "<a href=\"https://colab.research.google.com/github/MariaNatiele/AprendizadoMaquina_Projetos/blob/main/9_Ensamble_Learning__Random_Forest.ipynb\" target=\"_parent\"><img src=\"https://colab.research.google.com/assets/colab-badge.svg\" alt=\"Open In Colab\"/></a>"
      ]
    },
    {
      "cell_type": "code",
      "execution_count": 11,
      "metadata": {
        "id": "qLMuIacP4tCE"
      },
      "outputs": [],
      "source": [
        "import pandas as pd\n",
        "from sklearn.model_selection import train_test_split\n",
        "from sklearn.preprocessing import LabelEncoder\n",
        "from sklearn.metrics import confusion_matrix, accuracy_score\n",
        "from sklearn.ensemble import RandomForestClassifier"
      ]
    },
    {
      "cell_type": "code",
      "source": [
        "credito = pd.read_csv('Credit.csv')"
      ],
      "metadata": {
        "id": "u-ESdNc55K74"
      },
      "execution_count": 12,
      "outputs": []
    },
    {
      "cell_type": "code",
      "source": [
        "credito.head(2)"
      ],
      "metadata": {
        "colab": {
          "base_uri": "https://localhost:8080/",
          "height": 196
        },
        "id": "S4LqFj1d57Of",
        "outputId": "9dd8f27b-0259-4f2f-a51d-621dec3733e9"
      },
      "execution_count": 13,
      "outputs": [
        {
          "output_type": "execute_result",
          "data": {
            "text/plain": [
              "  checking_status  duration                    credit_history   purpose  \\\n",
              "0              <0         6  'critical/other existing credit'  radio/tv   \n",
              "1        0<=X<200        48                   'existing paid'  radio/tv   \n",
              "\n",
              "   credit_amount      savings_status employment  installment_commitment  \\\n",
              "0           1169  'no known savings'        >=7                       4   \n",
              "1           5951                <100     1<=X<4                       2   \n",
              "\n",
              "        personal_status other_parties  ...  property_magnitude age  \\\n",
              "0         'male single'          none  ...       'real estate'  67   \n",
              "1  'female div/dep/mar'          none  ...       'real estate'  22   \n",
              "\n",
              "   other_payment_plans housing existing_credits      job num_dependents  \\\n",
              "0                 none     own                2  skilled              1   \n",
              "1                 none     own                1  skilled              1   \n",
              "\n",
              "   own_telephone foreign_worker class  \n",
              "0            yes            yes  good  \n",
              "1           none            yes   bad  \n",
              "\n",
              "[2 rows x 21 columns]"
            ],
            "text/html": [
              "\n",
              "  <div id=\"df-a001b0c4-5396-4a27-80e8-f5bc9172049d\" class=\"colab-df-container\">\n",
              "    <div>\n",
              "<style scoped>\n",
              "    .dataframe tbody tr th:only-of-type {\n",
              "        vertical-align: middle;\n",
              "    }\n",
              "\n",
              "    .dataframe tbody tr th {\n",
              "        vertical-align: top;\n",
              "    }\n",
              "\n",
              "    .dataframe thead th {\n",
              "        text-align: right;\n",
              "    }\n",
              "</style>\n",
              "<table border=\"1\" class=\"dataframe\">\n",
              "  <thead>\n",
              "    <tr style=\"text-align: right;\">\n",
              "      <th></th>\n",
              "      <th>checking_status</th>\n",
              "      <th>duration</th>\n",
              "      <th>credit_history</th>\n",
              "      <th>purpose</th>\n",
              "      <th>credit_amount</th>\n",
              "      <th>savings_status</th>\n",
              "      <th>employment</th>\n",
              "      <th>installment_commitment</th>\n",
              "      <th>personal_status</th>\n",
              "      <th>other_parties</th>\n",
              "      <th>...</th>\n",
              "      <th>property_magnitude</th>\n",
              "      <th>age</th>\n",
              "      <th>other_payment_plans</th>\n",
              "      <th>housing</th>\n",
              "      <th>existing_credits</th>\n",
              "      <th>job</th>\n",
              "      <th>num_dependents</th>\n",
              "      <th>own_telephone</th>\n",
              "      <th>foreign_worker</th>\n",
              "      <th>class</th>\n",
              "    </tr>\n",
              "  </thead>\n",
              "  <tbody>\n",
              "    <tr>\n",
              "      <th>0</th>\n",
              "      <td>&lt;0</td>\n",
              "      <td>6</td>\n",
              "      <td>'critical/other existing credit'</td>\n",
              "      <td>radio/tv</td>\n",
              "      <td>1169</td>\n",
              "      <td>'no known savings'</td>\n",
              "      <td>&gt;=7</td>\n",
              "      <td>4</td>\n",
              "      <td>'male single'</td>\n",
              "      <td>none</td>\n",
              "      <td>...</td>\n",
              "      <td>'real estate'</td>\n",
              "      <td>67</td>\n",
              "      <td>none</td>\n",
              "      <td>own</td>\n",
              "      <td>2</td>\n",
              "      <td>skilled</td>\n",
              "      <td>1</td>\n",
              "      <td>yes</td>\n",
              "      <td>yes</td>\n",
              "      <td>good</td>\n",
              "    </tr>\n",
              "    <tr>\n",
              "      <th>1</th>\n",
              "      <td>0&lt;=X&lt;200</td>\n",
              "      <td>48</td>\n",
              "      <td>'existing paid'</td>\n",
              "      <td>radio/tv</td>\n",
              "      <td>5951</td>\n",
              "      <td>&lt;100</td>\n",
              "      <td>1&lt;=X&lt;4</td>\n",
              "      <td>2</td>\n",
              "      <td>'female div/dep/mar'</td>\n",
              "      <td>none</td>\n",
              "      <td>...</td>\n",
              "      <td>'real estate'</td>\n",
              "      <td>22</td>\n",
              "      <td>none</td>\n",
              "      <td>own</td>\n",
              "      <td>1</td>\n",
              "      <td>skilled</td>\n",
              "      <td>1</td>\n",
              "      <td>none</td>\n",
              "      <td>yes</td>\n",
              "      <td>bad</td>\n",
              "    </tr>\n",
              "  </tbody>\n",
              "</table>\n",
              "<p>2 rows × 21 columns</p>\n",
              "</div>\n",
              "    <div class=\"colab-df-buttons\">\n",
              "\n",
              "  <div class=\"colab-df-container\">\n",
              "    <button class=\"colab-df-convert\" onclick=\"convertToInteractive('df-a001b0c4-5396-4a27-80e8-f5bc9172049d')\"\n",
              "            title=\"Convert this dataframe to an interactive table.\"\n",
              "            style=\"display:none;\">\n",
              "\n",
              "  <svg xmlns=\"http://www.w3.org/2000/svg\" height=\"24px\" viewBox=\"0 -960 960 960\">\n",
              "    <path d=\"M120-120v-720h720v720H120Zm60-500h600v-160H180v160Zm220 220h160v-160H400v160Zm0 220h160v-160H400v160ZM180-400h160v-160H180v160Zm440 0h160v-160H620v160ZM180-180h160v-160H180v160Zm440 0h160v-160H620v160Z\"/>\n",
              "  </svg>\n",
              "    </button>\n",
              "\n",
              "  <style>\n",
              "    .colab-df-container {\n",
              "      display:flex;\n",
              "      gap: 12px;\n",
              "    }\n",
              "\n",
              "    .colab-df-convert {\n",
              "      background-color: #E8F0FE;\n",
              "      border: none;\n",
              "      border-radius: 50%;\n",
              "      cursor: pointer;\n",
              "      display: none;\n",
              "      fill: #1967D2;\n",
              "      height: 32px;\n",
              "      padding: 0 0 0 0;\n",
              "      width: 32px;\n",
              "    }\n",
              "\n",
              "    .colab-df-convert:hover {\n",
              "      background-color: #E2EBFA;\n",
              "      box-shadow: 0px 1px 2px rgba(60, 64, 67, 0.3), 0px 1px 3px 1px rgba(60, 64, 67, 0.15);\n",
              "      fill: #174EA6;\n",
              "    }\n",
              "\n",
              "    .colab-df-buttons div {\n",
              "      margin-bottom: 4px;\n",
              "    }\n",
              "\n",
              "    [theme=dark] .colab-df-convert {\n",
              "      background-color: #3B4455;\n",
              "      fill: #D2E3FC;\n",
              "    }\n",
              "\n",
              "    [theme=dark] .colab-df-convert:hover {\n",
              "      background-color: #434B5C;\n",
              "      box-shadow: 0px 1px 3px 1px rgba(0, 0, 0, 0.15);\n",
              "      filter: drop-shadow(0px 1px 2px rgba(0, 0, 0, 0.3));\n",
              "      fill: #FFFFFF;\n",
              "    }\n",
              "  </style>\n",
              "\n",
              "    <script>\n",
              "      const buttonEl =\n",
              "        document.querySelector('#df-a001b0c4-5396-4a27-80e8-f5bc9172049d button.colab-df-convert');\n",
              "      buttonEl.style.display =\n",
              "        google.colab.kernel.accessAllowed ? 'block' : 'none';\n",
              "\n",
              "      async function convertToInteractive(key) {\n",
              "        const element = document.querySelector('#df-a001b0c4-5396-4a27-80e8-f5bc9172049d');\n",
              "        const dataTable =\n",
              "          await google.colab.kernel.invokeFunction('convertToInteractive',\n",
              "                                                    [key], {});\n",
              "        if (!dataTable) return;\n",
              "\n",
              "        const docLinkHtml = 'Like what you see? Visit the ' +\n",
              "          '<a target=\"_blank\" href=https://colab.research.google.com/notebooks/data_table.ipynb>data table notebook</a>'\n",
              "          + ' to learn more about interactive tables.';\n",
              "        element.innerHTML = '';\n",
              "        dataTable['output_type'] = 'display_data';\n",
              "        await google.colab.output.renderOutput(dataTable, element);\n",
              "        const docLink = document.createElement('div');\n",
              "        docLink.innerHTML = docLinkHtml;\n",
              "        element.appendChild(docLink);\n",
              "      }\n",
              "    </script>\n",
              "  </div>\n",
              "\n",
              "\n",
              "<div id=\"df-078e480d-9d52-4387-9d54-ec21809a1752\">\n",
              "  <button class=\"colab-df-quickchart\" onclick=\"quickchart('df-078e480d-9d52-4387-9d54-ec21809a1752')\"\n",
              "            title=\"Suggest charts.\"\n",
              "            style=\"display:none;\">\n",
              "\n",
              "<svg xmlns=\"http://www.w3.org/2000/svg\" height=\"24px\"viewBox=\"0 0 24 24\"\n",
              "     width=\"24px\">\n",
              "    <g>\n",
              "        <path d=\"M19 3H5c-1.1 0-2 .9-2 2v14c0 1.1.9 2 2 2h14c1.1 0 2-.9 2-2V5c0-1.1-.9-2-2-2zM9 17H7v-7h2v7zm4 0h-2V7h2v10zm4 0h-2v-4h2v4z\"/>\n",
              "    </g>\n",
              "</svg>\n",
              "  </button>\n",
              "\n",
              "<style>\n",
              "  .colab-df-quickchart {\n",
              "    background-color: #E8F0FE;\n",
              "    border: none;\n",
              "    border-radius: 50%;\n",
              "    cursor: pointer;\n",
              "    display: none;\n",
              "    fill: #1967D2;\n",
              "    height: 32px;\n",
              "    padding: 0 0 0 0;\n",
              "    width: 32px;\n",
              "  }\n",
              "\n",
              "  .colab-df-quickchart:hover {\n",
              "    background-color: #E2EBFA;\n",
              "    box-shadow: 0px 1px 2px rgba(60, 64, 67, 0.3), 0px 1px 3px 1px rgba(60, 64, 67, 0.15);\n",
              "    fill: #174EA6;\n",
              "  }\n",
              "\n",
              "  [theme=dark] .colab-df-quickchart {\n",
              "    background-color: #3B4455;\n",
              "    fill: #D2E3FC;\n",
              "  }\n",
              "\n",
              "  [theme=dark] .colab-df-quickchart:hover {\n",
              "    background-color: #434B5C;\n",
              "    box-shadow: 0px 1px 3px 1px rgba(0, 0, 0, 0.15);\n",
              "    filter: drop-shadow(0px 1px 2px rgba(0, 0, 0, 0.3));\n",
              "    fill: #FFFFFF;\n",
              "  }\n",
              "</style>\n",
              "\n",
              "  <script>\n",
              "    async function quickchart(key) {\n",
              "      const charts = await google.colab.kernel.invokeFunction(\n",
              "          'suggestCharts', [key], {});\n",
              "    }\n",
              "    (() => {\n",
              "      let quickchartButtonEl =\n",
              "        document.querySelector('#df-078e480d-9d52-4387-9d54-ec21809a1752 button');\n",
              "      quickchartButtonEl.style.display =\n",
              "        google.colab.kernel.accessAllowed ? 'block' : 'none';\n",
              "    })();\n",
              "  </script>\n",
              "</div>\n",
              "    </div>\n",
              "  </div>\n"
            ]
          },
          "metadata": {},
          "execution_count": 13
        }
      ]
    },
    {
      "cell_type": "code",
      "source": [
        "previsores = credito.iloc[:,0:20].values\n",
        "classe = credito.iloc[:,20].values"
      ],
      "metadata": {
        "id": "qSev6jc7584E"
      },
      "execution_count": 14,
      "outputs": []
    },
    {
      "cell_type": "code",
      "source": [
        "#Transformando os dados\n",
        "labelecoador1 = LabelEncoder()\n",
        "previsores[:,0] = labelecoador1.fit_transform(previsores[:,0])\n",
        "\n",
        "\n",
        "labelecoador2 = LabelEncoder()\n",
        "previsores[:,2] = labelecoador2.fit_transform(previsores[:,2])\n",
        "\n",
        "labelecoador3 = LabelEncoder()\n",
        "previsores[:,3] = labelecoador3.fit_transform(previsores[:,3])\n",
        "\n",
        "labelecoador4 = LabelEncoder()\n",
        "previsores[:,5] = labelecoador4.fit_transform(previsores[:,5])\n",
        "\n",
        "labelecoador5 = LabelEncoder()\n",
        "previsores[:,6] = labelecoador5.fit_transform(previsores[:,6])\n",
        "\n",
        "labelecoador6 = LabelEncoder()\n",
        "previsores[:,8] = labelecoador6.fit_transform(previsores[:,8])\n",
        "\n",
        "labelecoador7 = LabelEncoder()\n",
        "previsores[:,9] = labelecoador7.fit_transform(previsores[:,9])\n",
        "\n",
        "labelecoador8 = LabelEncoder()\n",
        "previsores[:,11] = labelecoador8.fit_transform(previsores[:,11])\n",
        "\n",
        "labelecoador9 = LabelEncoder()\n",
        "previsores[:,13] = labelecoador9.fit_transform(previsores[:,13])\n",
        "\n",
        "labelecoador10 = LabelEncoder()\n",
        "previsores[:,14] = labelecoador10.fit_transform(previsores[:,14])\n",
        "\n",
        "labelecoador11 = LabelEncoder()\n",
        "previsores[:,16] = labelecoador11.fit_transform(previsores[:,16])\n",
        "\n",
        "labelecoador12 = LabelEncoder()\n",
        "previsores[:,18] = labelecoador12.fit_transform(previsores[:,18])\n",
        "\n",
        "labelecoador13 = LabelEncoder()\n",
        "previsores[:,19] = labelecoador13.fit_transform(previsores[:,19])\n",
        "\n"
      ],
      "metadata": {
        "id": "v__j7XKv6bIz"
      },
      "execution_count": 15,
      "outputs": []
    },
    {
      "cell_type": "code",
      "source": [
        "#Separando os dados\n",
        "x_treino, x_teste, y_treino, y_teste = train_test_split(previsores, classe, test_size=0.3, random_state=0)"
      ],
      "metadata": {
        "id": "HigFEKn66koE"
      },
      "execution_count": 16,
      "outputs": []
    },
    {
      "cell_type": "code",
      "source": [
        "#Treinando o modelo\n",
        "floresta = RandomForestClassifier(n_estimators=100)\n",
        "floresta.fit(x_treino, y_treino)"
      ],
      "metadata": {
        "colab": {
          "base_uri": "https://localhost:8080/",
          "height": 75
        },
        "id": "0VX6Asur6r8O",
        "outputId": "7e95e763-e137-49bb-b776-9e0cc08611c0"
      },
      "execution_count": 21,
      "outputs": [
        {
          "output_type": "execute_result",
          "data": {
            "text/plain": [
              "RandomForestClassifier()"
            ],
            "text/html": [
              "<style>#sk-container-id-1 {color: black;background-color: white;}#sk-container-id-1 pre{padding: 0;}#sk-container-id-1 div.sk-toggleable {background-color: white;}#sk-container-id-1 label.sk-toggleable__label {cursor: pointer;display: block;width: 100%;margin-bottom: 0;padding: 0.3em;box-sizing: border-box;text-align: center;}#sk-container-id-1 label.sk-toggleable__label-arrow:before {content: \"▸\";float: left;margin-right: 0.25em;color: #696969;}#sk-container-id-1 label.sk-toggleable__label-arrow:hover:before {color: black;}#sk-container-id-1 div.sk-estimator:hover label.sk-toggleable__label-arrow:before {color: black;}#sk-container-id-1 div.sk-toggleable__content {max-height: 0;max-width: 0;overflow: hidden;text-align: left;background-color: #f0f8ff;}#sk-container-id-1 div.sk-toggleable__content pre {margin: 0.2em;color: black;border-radius: 0.25em;background-color: #f0f8ff;}#sk-container-id-1 input.sk-toggleable__control:checked~div.sk-toggleable__content {max-height: 200px;max-width: 100%;overflow: auto;}#sk-container-id-1 input.sk-toggleable__control:checked~label.sk-toggleable__label-arrow:before {content: \"▾\";}#sk-container-id-1 div.sk-estimator input.sk-toggleable__control:checked~label.sk-toggleable__label {background-color: #d4ebff;}#sk-container-id-1 div.sk-label input.sk-toggleable__control:checked~label.sk-toggleable__label {background-color: #d4ebff;}#sk-container-id-1 input.sk-hidden--visually {border: 0;clip: rect(1px 1px 1px 1px);clip: rect(1px, 1px, 1px, 1px);height: 1px;margin: -1px;overflow: hidden;padding: 0;position: absolute;width: 1px;}#sk-container-id-1 div.sk-estimator {font-family: monospace;background-color: #f0f8ff;border: 1px dotted black;border-radius: 0.25em;box-sizing: border-box;margin-bottom: 0.5em;}#sk-container-id-1 div.sk-estimator:hover {background-color: #d4ebff;}#sk-container-id-1 div.sk-parallel-item::after {content: \"\";width: 100%;border-bottom: 1px solid gray;flex-grow: 1;}#sk-container-id-1 div.sk-label:hover label.sk-toggleable__label {background-color: #d4ebff;}#sk-container-id-1 div.sk-serial::before {content: \"\";position: absolute;border-left: 1px solid gray;box-sizing: border-box;top: 0;bottom: 0;left: 50%;z-index: 0;}#sk-container-id-1 div.sk-serial {display: flex;flex-direction: column;align-items: center;background-color: white;padding-right: 0.2em;padding-left: 0.2em;position: relative;}#sk-container-id-1 div.sk-item {position: relative;z-index: 1;}#sk-container-id-1 div.sk-parallel {display: flex;align-items: stretch;justify-content: center;background-color: white;position: relative;}#sk-container-id-1 div.sk-item::before, #sk-container-id-1 div.sk-parallel-item::before {content: \"\";position: absolute;border-left: 1px solid gray;box-sizing: border-box;top: 0;bottom: 0;left: 50%;z-index: -1;}#sk-container-id-1 div.sk-parallel-item {display: flex;flex-direction: column;z-index: 1;position: relative;background-color: white;}#sk-container-id-1 div.sk-parallel-item:first-child::after {align-self: flex-end;width: 50%;}#sk-container-id-1 div.sk-parallel-item:last-child::after {align-self: flex-start;width: 50%;}#sk-container-id-1 div.sk-parallel-item:only-child::after {width: 0;}#sk-container-id-1 div.sk-dashed-wrapped {border: 1px dashed gray;margin: 0 0.4em 0.5em 0.4em;box-sizing: border-box;padding-bottom: 0.4em;background-color: white;}#sk-container-id-1 div.sk-label label {font-family: monospace;font-weight: bold;display: inline-block;line-height: 1.2em;}#sk-container-id-1 div.sk-label-container {text-align: center;}#sk-container-id-1 div.sk-container {/* jupyter's `normalize.less` sets `[hidden] { display: none; }` but bootstrap.min.css set `[hidden] { display: none !important; }` so we also need the `!important` here to be able to override the default hidden behavior on the sphinx rendered scikit-learn.org. See: https://github.com/scikit-learn/scikit-learn/issues/21755 */display: inline-block !important;position: relative;}#sk-container-id-1 div.sk-text-repr-fallback {display: none;}</style><div id=\"sk-container-id-1\" class=\"sk-top-container\"><div class=\"sk-text-repr-fallback\"><pre>RandomForestClassifier()</pre><b>In a Jupyter environment, please rerun this cell to show the HTML representation or trust the notebook. <br />On GitHub, the HTML representation is unable to render, please try loading this page with nbviewer.org.</b></div><div class=\"sk-container\" hidden><div class=\"sk-item\"><div class=\"sk-estimator sk-toggleable\"><input class=\"sk-toggleable__control sk-hidden--visually\" id=\"sk-estimator-id-1\" type=\"checkbox\" checked><label for=\"sk-estimator-id-1\" class=\"sk-toggleable__label sk-toggleable__label-arrow\">RandomForestClassifier</label><div class=\"sk-toggleable__content\"><pre>RandomForestClassifier()</pre></div></div></div></div></div>"
            ]
          },
          "metadata": {},
          "execution_count": 21
        }
      ]
    },
    {
      "cell_type": "code",
      "source": [
        "#Visualização dos principais atributos\n",
        "#floresta.estimators_[1]\n",
        "floresta.estimators_"
      ],
      "metadata": {
        "colab": {
          "base_uri": "https://localhost:8080/"
        },
        "id": "cNaDdjFy7d8o",
        "outputId": "556b35ef-d79e-44d5-fdfc-b046d3a08204"
      },
      "execution_count": 31,
      "outputs": [
        {
          "output_type": "execute_result",
          "data": {
            "text/plain": [
              "[DecisionTreeClassifier(max_features='sqrt', random_state=336191095),\n",
              " DecisionTreeClassifier(max_features='sqrt', random_state=630127100),\n",
              " DecisionTreeClassifier(max_features='sqrt', random_state=103645372),\n",
              " DecisionTreeClassifier(max_features='sqrt', random_state=1803103738),\n",
              " DecisionTreeClassifier(max_features='sqrt', random_state=1517180484),\n",
              " DecisionTreeClassifier(max_features='sqrt', random_state=130739672),\n",
              " DecisionTreeClassifier(max_features='sqrt', random_state=287905405),\n",
              " DecisionTreeClassifier(max_features='sqrt', random_state=1007540483),\n",
              " DecisionTreeClassifier(max_features='sqrt', random_state=1329764825),\n",
              " DecisionTreeClassifier(max_features='sqrt', random_state=1477215327),\n",
              " DecisionTreeClassifier(max_features='sqrt', random_state=140163862),\n",
              " DecisionTreeClassifier(max_features='sqrt', random_state=487686862),\n",
              " DecisionTreeClassifier(max_features='sqrt', random_state=132541815),\n",
              " DecisionTreeClassifier(max_features='sqrt', random_state=1704995960),\n",
              " DecisionTreeClassifier(max_features='sqrt', random_state=984771751),\n",
              " DecisionTreeClassifier(max_features='sqrt', random_state=1904738954),\n",
              " DecisionTreeClassifier(max_features='sqrt', random_state=1837181637),\n",
              " DecisionTreeClassifier(max_features='sqrt', random_state=536991143),\n",
              " DecisionTreeClassifier(max_features='sqrt', random_state=1742068239),\n",
              " DecisionTreeClassifier(max_features='sqrt', random_state=1805955854),\n",
              " DecisionTreeClassifier(max_features='sqrt', random_state=1104622458),\n",
              " DecisionTreeClassifier(max_features='sqrt', random_state=1344707009),\n",
              " DecisionTreeClassifier(max_features='sqrt', random_state=1259412107),\n",
              " DecisionTreeClassifier(max_features='sqrt', random_state=1117301597),\n",
              " DecisionTreeClassifier(max_features='sqrt', random_state=1582447204),\n",
              " DecisionTreeClassifier(max_features='sqrt', random_state=1268584878),\n",
              " DecisionTreeClassifier(max_features='sqrt', random_state=1847497958),\n",
              " DecisionTreeClassifier(max_features='sqrt', random_state=553444133),\n",
              " DecisionTreeClassifier(max_features='sqrt', random_state=2143314273),\n",
              " DecisionTreeClassifier(max_features='sqrt', random_state=1768499073),\n",
              " DecisionTreeClassifier(max_features='sqrt', random_state=341049815),\n",
              " DecisionTreeClassifier(max_features='sqrt', random_state=1837128929),\n",
              " DecisionTreeClassifier(max_features='sqrt', random_state=794019484),\n",
              " DecisionTreeClassifier(max_features='sqrt', random_state=715189896),\n",
              " DecisionTreeClassifier(max_features='sqrt', random_state=500383362),\n",
              " DecisionTreeClassifier(max_features='sqrt', random_state=612388172),\n",
              " DecisionTreeClassifier(max_features='sqrt', random_state=1646258155),\n",
              " DecisionTreeClassifier(max_features='sqrt', random_state=683655175),\n",
              " DecisionTreeClassifier(max_features='sqrt', random_state=1190983497),\n",
              " DecisionTreeClassifier(max_features='sqrt', random_state=1301296698),\n",
              " DecisionTreeClassifier(max_features='sqrt', random_state=651529651),\n",
              " DecisionTreeClassifier(max_features='sqrt', random_state=48595895),\n",
              " DecisionTreeClassifier(max_features='sqrt', random_state=1809814529),\n",
              " DecisionTreeClassifier(max_features='sqrt', random_state=2119314428),\n",
              " DecisionTreeClassifier(max_features='sqrt', random_state=836219980),\n",
              " DecisionTreeClassifier(max_features='sqrt', random_state=2093477973),\n",
              " DecisionTreeClassifier(max_features='sqrt', random_state=1604309033),\n",
              " DecisionTreeClassifier(max_features='sqrt', random_state=1345867245),\n",
              " DecisionTreeClassifier(max_features='sqrt', random_state=935384023),\n",
              " DecisionTreeClassifier(max_features='sqrt', random_state=155542723),\n",
              " DecisionTreeClassifier(max_features='sqrt', random_state=2095227931),\n",
              " DecisionTreeClassifier(max_features='sqrt', random_state=1681959658),\n",
              " DecisionTreeClassifier(max_features='sqrt', random_state=1325228198),\n",
              " DecisionTreeClassifier(max_features='sqrt', random_state=859599513),\n",
              " DecisionTreeClassifier(max_features='sqrt', random_state=1445065435),\n",
              " DecisionTreeClassifier(max_features='sqrt', random_state=1322638878),\n",
              " DecisionTreeClassifier(max_features='sqrt', random_state=814020309),\n",
              " DecisionTreeClassifier(max_features='sqrt', random_state=1108557976),\n",
              " DecisionTreeClassifier(max_features='sqrt', random_state=88022428),\n",
              " DecisionTreeClassifier(max_features='sqrt', random_state=706365693),\n",
              " DecisionTreeClassifier(max_features='sqrt', random_state=1546661738),\n",
              " DecisionTreeClassifier(max_features='sqrt', random_state=1948835254),\n",
              " DecisionTreeClassifier(max_features='sqrt', random_state=1110561055),\n",
              " DecisionTreeClassifier(max_features='sqrt', random_state=965118021),\n",
              " DecisionTreeClassifier(max_features='sqrt', random_state=752147153),\n",
              " DecisionTreeClassifier(max_features='sqrt', random_state=1550996316),\n",
              " DecisionTreeClassifier(max_features='sqrt', random_state=1917421886),\n",
              " DecisionTreeClassifier(max_features='sqrt', random_state=1685660053),\n",
              " DecisionTreeClassifier(max_features='sqrt', random_state=141187104),\n",
              " DecisionTreeClassifier(max_features='sqrt', random_state=1803019669),\n",
              " DecisionTreeClassifier(max_features='sqrt', random_state=32067641),\n",
              " DecisionTreeClassifier(max_features='sqrt', random_state=1772342405),\n",
              " DecisionTreeClassifier(max_features='sqrt', random_state=1957979310),\n",
              " DecisionTreeClassifier(max_features='sqrt', random_state=415578129),\n",
              " DecisionTreeClassifier(max_features='sqrt', random_state=195283943),\n",
              " DecisionTreeClassifier(max_features='sqrt', random_state=1172097287),\n",
              " DecisionTreeClassifier(max_features='sqrt', random_state=102816595),\n",
              " DecisionTreeClassifier(max_features='sqrt', random_state=641486317),\n",
              " DecisionTreeClassifier(max_features='sqrt', random_state=1543355372),\n",
              " DecisionTreeClassifier(max_features='sqrt', random_state=490225065),\n",
              " DecisionTreeClassifier(max_features='sqrt', random_state=1851949871),\n",
              " DecisionTreeClassifier(max_features='sqrt', random_state=1528463555),\n",
              " DecisionTreeClassifier(max_features='sqrt', random_state=848311525),\n",
              " DecisionTreeClassifier(max_features='sqrt', random_state=749074803),\n",
              " DecisionTreeClassifier(max_features='sqrt', random_state=1749363404),\n",
              " DecisionTreeClassifier(max_features='sqrt', random_state=173301858),\n",
              " DecisionTreeClassifier(max_features='sqrt', random_state=207912181),\n",
              " DecisionTreeClassifier(max_features='sqrt', random_state=2119695893),\n",
              " DecisionTreeClassifier(max_features='sqrt', random_state=2054919349),\n",
              " DecisionTreeClassifier(max_features='sqrt', random_state=2027556540),\n",
              " DecisionTreeClassifier(max_features='sqrt', random_state=460170563),\n",
              " DecisionTreeClassifier(max_features='sqrt', random_state=447925642),\n",
              " DecisionTreeClassifier(max_features='sqrt', random_state=665070251),\n",
              " DecisionTreeClassifier(max_features='sqrt', random_state=633877838),\n",
              " DecisionTreeClassifier(max_features='sqrt', random_state=1008224610),\n",
              " DecisionTreeClassifier(max_features='sqrt', random_state=1254145926),\n",
              " DecisionTreeClassifier(max_features='sqrt', random_state=417533561),\n",
              " DecisionTreeClassifier(max_features='sqrt', random_state=1064597597),\n",
              " DecisionTreeClassifier(max_features='sqrt', random_state=1124663233),\n",
              " DecisionTreeClassifier(max_features='sqrt', random_state=768131706)]"
            ]
          },
          "metadata": {},
          "execution_count": 31
        }
      ]
    },
    {
      "cell_type": "code",
      "source": [
        "previsao = floresta.predict(x_teste)\n",
        "confusao = confusion_matrix(y_teste, previsao)\n",
        "confusao"
      ],
      "metadata": {
        "colab": {
          "base_uri": "https://localhost:8080/"
        },
        "id": "6JHJ3ZYP79n1",
        "outputId": "99aaad39-f87f-45e1-8619-25edf96d358e"
      },
      "execution_count": 37,
      "outputs": [
        {
          "output_type": "execute_result",
          "data": {
            "text/plain": [
              "array([[ 35,  51],\n",
              "       [ 15, 199]])"
            ]
          },
          "metadata": {},
          "execution_count": 37
        }
      ]
    },
    {
      "cell_type": "code",
      "source": [
        "taxa_acerto = accuracy_score(y_teste, previsao)\n",
        "taxa_acerto"
      ],
      "metadata": {
        "colab": {
          "base_uri": "https://localhost:8080/"
        },
        "id": "nzufbAHQ824V",
        "outputId": "beb25aa8-dc27-4051-bcf1-c1a4bc4a8048"
      },
      "execution_count": 39,
      "outputs": [
        {
          "output_type": "execute_result",
          "data": {
            "text/plain": [
              "0.78"
            ]
          },
          "metadata": {},
          "execution_count": 39
        }
      ]
    }
  ]
}