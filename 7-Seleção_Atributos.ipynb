{
  "nbformat": 4,
  "nbformat_minor": 0,
  "metadata": {
    "colab": {
      "provenance": [],
      "authorship_tag": "ABX9TyPffgTDC/R3gFY//wN6v8ZI",
      "include_colab_link": true
    },
    "kernelspec": {
      "name": "python3",
      "display_name": "Python 3"
    },
    "language_info": {
      "name": "python"
    }
  },
  "cells": [
    {
      "cell_type": "markdown",
      "metadata": {
        "id": "view-in-github",
        "colab_type": "text"
      },
      "source": [
        "<a href=\"https://colab.research.google.com/github/MariaNatiele/AprendizadoMaquina_Projetos/blob/main/7-Sele%C3%A7%C3%A3o_Atributos.ipynb\" target=\"_parent\"><img src=\"https://colab.research.google.com/assets/colab-badge.svg\" alt=\"Open In Colab\"/></a>"
      ]
    },
    {
      "cell_type": "markdown",
      "source": [
        "\n",
        "▶ Seleção de atributos para modelos de machine learning 💻\n"
      ],
      "metadata": {
        "id": "eDFRsSUR9X5h"
      }
    },
    {
      "cell_type": "markdown",
      "source": [
        "Selecinando os melhores atributos e de maior relevância para um modelo ML"
      ],
      "metadata": {
        "id": "BYrhGHFP7VVT"
      }
    },
    {
      "cell_type": "code",
      "execution_count": 1,
      "metadata": {
        "id": "oYE7bStH9UX3"
      },
      "outputs": [],
      "source": [
        "#Bibliotecas para seleção de atributos\n",
        "\n",
        "import pandas as pd\n",
        "from sklearn.model_selection import train_test_split\n",
        "from sklearn.preprocessing import LabelEncoder\n",
        "from sklearn.metrics import confusion_matrix, accuracy_score\n",
        "from sklearn.svm import SVC\n",
        "from sklearn.ensemble import ExtraTreesClassifier"
      ]
    },
    {
      "cell_type": "code",
      "source": [
        "#Carrega os dados\n",
        "dados = pd.read_csv('Credit.csv')\n",
        "dados.shape"
      ],
      "metadata": {
        "colab": {
          "base_uri": "https://localhost:8080/"
        },
        "id": "ghcXY5PB8D7E",
        "outputId": "4e4f348c-9f25-4040-bb8f-26ca93c74858"
      },
      "execution_count": 2,
      "outputs": [
        {
          "output_type": "execute_result",
          "data": {
            "text/plain": [
              "(1000, 21)"
            ]
          },
          "metadata": {},
          "execution_count": 2
        }
      ]
    },
    {
      "cell_type": "code",
      "source": [
        "#Separação dos dados previsores e a classe\n",
        "\n",
        "previsores = dados.iloc[:,0:20].values\n",
        "classe = dados.iloc[:,20].values"
      ],
      "metadata": {
        "id": "Okilu27Z8bfE"
      },
      "execution_count": 3,
      "outputs": []
    },
    {
      "cell_type": "code",
      "source": [
        "#Transforma dados categório em numérico\n",
        "\n",
        "labelecoador1 = LabelEncoder()\n",
        "previsores[:,0] = labelecoador1.fit_transform(previsores[:,0])\n",
        "\n",
        "labelecoador2 = LabelEncoder()\n",
        "previsores[:,2] = labelecoador2.fit_transform(previsores[:,2])\n",
        "\n",
        "labelecoador3 = LabelEncoder()\n",
        "previsores[:,3] = labelecoador3.fit_transform(previsores[:,3])\n",
        "\n",
        "labelecoador4 = LabelEncoder()\n",
        "previsores[:,5] = labelecoador4.fit_transform(previsores[:,5])\n",
        "\n",
        "labelecoador5 = LabelEncoder()\n",
        "previsores[:,6] = labelecoador5.fit_transform(previsores[:,6])\n",
        "\n",
        "labelecoador6 = LabelEncoder()\n",
        "previsores[:,8] = labelecoador6.fit_transform(previsores[:,8])\n",
        "\n",
        "labelecoador7 = LabelEncoder()\n",
        "previsores[:,9] = labelecoador7.fit_transform(previsores[:,9])\n",
        "\n",
        "labelecoador8 = LabelEncoder()\n",
        "previsores[:,11] = labelecoador8.fit_transform(previsores[:,11])\n",
        "\n",
        "labelecoador9 = LabelEncoder()\n",
        "previsores[:,13] = labelecoador9.fit_transform(previsores[:,13])\n",
        "\n",
        "labelecoador10 = LabelEncoder()\n",
        "previsores[:,14] = labelecoador10.fit_transform(previsores[:,14])\n",
        "\n",
        "labelecoador11 = LabelEncoder()\n",
        "previsores[:,16] = labelecoador11.fit_transform(previsores[:,16])\n",
        "\n",
        "labelecoador12 = LabelEncoder()\n",
        "previsores[:,18] = labelecoador12.fit_transform(previsores[:,18])\n",
        "\n",
        "labelecoador13 = LabelEncoder()\n",
        "previsores[:,19] = labelecoador13.fit_transform(previsores[:,19])"
      ],
      "metadata": {
        "id": "jU2JiEFF812X"
      },
      "execution_count": 4,
      "outputs": []
    },
    {
      "cell_type": "code",
      "source": [
        "#Seleção de treino e teste\n",
        "\n",
        "x_treino, x_teste, y_treino, y_teste = train_test_split(previsores, classe, test_size=0.3, random_state=1)"
      ],
      "metadata": {
        "id": "6SVdM5eZ9O4E"
      },
      "execution_count": 5,
      "outputs": []
    },
    {
      "cell_type": "code",
      "source": [
        "#Criando o modelo, treinando, obtenção da previsão e taxa de acerto\n",
        "\n",
        "svm  = SVC()\n",
        "svm.fit(x_treino, y_treino)"
      ],
      "metadata": {
        "colab": {
          "base_uri": "https://localhost:8080/",
          "height": 75
        },
        "id": "W-QYIkyf-PV8",
        "outputId": "baff430f-c869-4b98-a322-e5a4faeb8254"
      },
      "execution_count": 6,
      "outputs": [
        {
          "output_type": "execute_result",
          "data": {
            "text/plain": [
              "SVC()"
            ],
            "text/html": [
              "<style>#sk-container-id-1 {color: black;background-color: white;}#sk-container-id-1 pre{padding: 0;}#sk-container-id-1 div.sk-toggleable {background-color: white;}#sk-container-id-1 label.sk-toggleable__label {cursor: pointer;display: block;width: 100%;margin-bottom: 0;padding: 0.3em;box-sizing: border-box;text-align: center;}#sk-container-id-1 label.sk-toggleable__label-arrow:before {content: \"▸\";float: left;margin-right: 0.25em;color: #696969;}#sk-container-id-1 label.sk-toggleable__label-arrow:hover:before {color: black;}#sk-container-id-1 div.sk-estimator:hover label.sk-toggleable__label-arrow:before {color: black;}#sk-container-id-1 div.sk-toggleable__content {max-height: 0;max-width: 0;overflow: hidden;text-align: left;background-color: #f0f8ff;}#sk-container-id-1 div.sk-toggleable__content pre {margin: 0.2em;color: black;border-radius: 0.25em;background-color: #f0f8ff;}#sk-container-id-1 input.sk-toggleable__control:checked~div.sk-toggleable__content {max-height: 200px;max-width: 100%;overflow: auto;}#sk-container-id-1 input.sk-toggleable__control:checked~label.sk-toggleable__label-arrow:before {content: \"▾\";}#sk-container-id-1 div.sk-estimator input.sk-toggleable__control:checked~label.sk-toggleable__label {background-color: #d4ebff;}#sk-container-id-1 div.sk-label input.sk-toggleable__control:checked~label.sk-toggleable__label {background-color: #d4ebff;}#sk-container-id-1 input.sk-hidden--visually {border: 0;clip: rect(1px 1px 1px 1px);clip: rect(1px, 1px, 1px, 1px);height: 1px;margin: -1px;overflow: hidden;padding: 0;position: absolute;width: 1px;}#sk-container-id-1 div.sk-estimator {font-family: monospace;background-color: #f0f8ff;border: 1px dotted black;border-radius: 0.25em;box-sizing: border-box;margin-bottom: 0.5em;}#sk-container-id-1 div.sk-estimator:hover {background-color: #d4ebff;}#sk-container-id-1 div.sk-parallel-item::after {content: \"\";width: 100%;border-bottom: 1px solid gray;flex-grow: 1;}#sk-container-id-1 div.sk-label:hover label.sk-toggleable__label {background-color: #d4ebff;}#sk-container-id-1 div.sk-serial::before {content: \"\";position: absolute;border-left: 1px solid gray;box-sizing: border-box;top: 0;bottom: 0;left: 50%;z-index: 0;}#sk-container-id-1 div.sk-serial {display: flex;flex-direction: column;align-items: center;background-color: white;padding-right: 0.2em;padding-left: 0.2em;position: relative;}#sk-container-id-1 div.sk-item {position: relative;z-index: 1;}#sk-container-id-1 div.sk-parallel {display: flex;align-items: stretch;justify-content: center;background-color: white;position: relative;}#sk-container-id-1 div.sk-item::before, #sk-container-id-1 div.sk-parallel-item::before {content: \"\";position: absolute;border-left: 1px solid gray;box-sizing: border-box;top: 0;bottom: 0;left: 50%;z-index: -1;}#sk-container-id-1 div.sk-parallel-item {display: flex;flex-direction: column;z-index: 1;position: relative;background-color: white;}#sk-container-id-1 div.sk-parallel-item:first-child::after {align-self: flex-end;width: 50%;}#sk-container-id-1 div.sk-parallel-item:last-child::after {align-self: flex-start;width: 50%;}#sk-container-id-1 div.sk-parallel-item:only-child::after {width: 0;}#sk-container-id-1 div.sk-dashed-wrapped {border: 1px dashed gray;margin: 0 0.4em 0.5em 0.4em;box-sizing: border-box;padding-bottom: 0.4em;background-color: white;}#sk-container-id-1 div.sk-label label {font-family: monospace;font-weight: bold;display: inline-block;line-height: 1.2em;}#sk-container-id-1 div.sk-label-container {text-align: center;}#sk-container-id-1 div.sk-container {/* jupyter's `normalize.less` sets `[hidden] { display: none; }` but bootstrap.min.css set `[hidden] { display: none !important; }` so we also need the `!important` here to be able to override the default hidden behavior on the sphinx rendered scikit-learn.org. See: https://github.com/scikit-learn/scikit-learn/issues/21755 */display: inline-block !important;position: relative;}#sk-container-id-1 div.sk-text-repr-fallback {display: none;}</style><div id=\"sk-container-id-1\" class=\"sk-top-container\"><div class=\"sk-text-repr-fallback\"><pre>SVC()</pre><b>In a Jupyter environment, please rerun this cell to show the HTML representation or trust the notebook. <br />On GitHub, the HTML representation is unable to render, please try loading this page with nbviewer.org.</b></div><div class=\"sk-container\" hidden><div class=\"sk-item\"><div class=\"sk-estimator sk-toggleable\"><input class=\"sk-toggleable__control sk-hidden--visually\" id=\"sk-estimator-id-1\" type=\"checkbox\" checked><label for=\"sk-estimator-id-1\" class=\"sk-toggleable__label sk-toggleable__label-arrow\">SVC</label><div class=\"sk-toggleable__content\"><pre>SVC()</pre></div></div></div></div></div>"
            ]
          },
          "metadata": {},
          "execution_count": 6
        }
      ]
    },
    {
      "cell_type": "code",
      "source": [
        "#Previsores\n",
        "\n",
        "previsao = svm.predict(x_teste)\n",
        "previsao"
      ],
      "metadata": {
        "colab": {
          "base_uri": "https://localhost:8080/"
        },
        "id": "ykGbqoh9_vsa",
        "outputId": "327db39e-6818-4a5a-9ce2-da99cee6d403"
      },
      "execution_count": 7,
      "outputs": [
        {
          "output_type": "execute_result",
          "data": {
            "text/plain": [
              "array(['good', 'bad', 'good', 'good', 'good', 'good', 'good', 'good',\n",
              "       'good', 'good', 'good', 'good', 'good', 'good', 'good', 'good',\n",
              "       'good', 'good', 'good', 'good', 'good', 'good', 'good', 'good',\n",
              "       'good', 'good', 'good', 'good', 'good', 'bad', 'good', 'good',\n",
              "       'bad', 'good', 'good', 'bad', 'good', 'good', 'good', 'good',\n",
              "       'good', 'good', 'good', 'good', 'good', 'good', 'good', 'good',\n",
              "       'good', 'good', 'good', 'good', 'good', 'good', 'good', 'good',\n",
              "       'good', 'good', 'good', 'good', 'good', 'good', 'bad', 'good',\n",
              "       'good', 'good', 'good', 'good', 'good', 'good', 'good', 'good',\n",
              "       'good', 'good', 'good', 'good', 'good', 'good', 'good', 'good',\n",
              "       'good', 'good', 'good', 'good', 'good', 'good', 'good', 'good',\n",
              "       'good', 'good', 'good', 'good', 'good', 'good', 'good', 'good',\n",
              "       'good', 'good', 'good', 'good', 'good', 'good', 'good', 'good',\n",
              "       'good', 'good', 'good', 'good', 'bad', 'good', 'good', 'good',\n",
              "       'good', 'good', 'good', 'good', 'good', 'good', 'good', 'good',\n",
              "       'good', 'good', 'good', 'good', 'good', 'good', 'good', 'good',\n",
              "       'good', 'good', 'good', 'good', 'good', 'good', 'good', 'good',\n",
              "       'good', 'good', 'good', 'good', 'good', 'good', 'good', 'good',\n",
              "       'good', 'good', 'good', 'good', 'good', 'good', 'good', 'good',\n",
              "       'good', 'good', 'good', 'good', 'good', 'good', 'good', 'good',\n",
              "       'good', 'good', 'good', 'good', 'bad', 'good', 'good', 'good',\n",
              "       'good', 'good', 'good', 'good', 'good', 'good', 'good', 'good',\n",
              "       'good', 'good', 'good', 'good', 'good', 'good', 'good', 'good',\n",
              "       'good', 'good', 'good', 'good', 'good', 'good', 'good', 'good',\n",
              "       'good', 'good', 'good', 'good', 'good', 'good', 'good', 'good',\n",
              "       'good', 'good', 'good', 'good', 'good', 'good', 'good', 'good',\n",
              "       'good', 'good', 'good', 'good', 'good', 'good', 'good', 'good',\n",
              "       'good', 'good', 'good', 'good', 'good', 'good', 'good', 'good',\n",
              "       'good', 'good', 'good', 'good', 'good', 'good', 'good', 'good',\n",
              "       'good', 'good', 'good', 'good', 'good', 'good', 'good', 'good',\n",
              "       'good', 'good', 'good', 'good', 'good', 'good', 'good', 'good',\n",
              "       'good', 'good', 'good', 'good', 'good', 'good', 'good', 'good',\n",
              "       'good', 'good', 'good', 'good', 'good', 'good', 'good', 'good',\n",
              "       'good', 'good', 'good', 'good', 'good', 'good', 'good', 'good',\n",
              "       'good', 'good', 'good', 'good', 'good', 'good', 'good', 'good',\n",
              "       'good', 'good', 'good', 'good', 'good', 'good', 'good', 'good',\n",
              "       'good', 'good', 'good', 'good', 'good', 'good', 'good', 'good',\n",
              "       'good', 'good', 'good', 'good'], dtype=object)"
            ]
          },
          "metadata": {},
          "execution_count": 7
        }
      ]
    },
    {
      "cell_type": "code",
      "source": [
        "acuracia = accuracy_score(y_teste, previsao)\n",
        "acuracia"
      ],
      "metadata": {
        "id": "HDEl1XX3_7cr",
        "colab": {
          "base_uri": "https://localhost:8080/"
        },
        "outputId": "066be91c-e74c-4abe-d85c-4688b1e4f9ba"
      },
      "execution_count": 11,
      "outputs": [
        {
          "output_type": "execute_result",
          "data": {
            "text/plain": [
              "0.7166666666666667"
            ]
          },
          "metadata": {},
          "execution_count": 11
        }
      ]
    },
    {
      "cell_type": "code",
      "source": [
        "#Seleção de atributos\n",
        "forest = ExtraTreesClassifier()\n",
        "forest.fit(x_treino, y_treino)\n",
        "\n",
        "\n",
        "#Extrair as caracteristicas mais importantes\n",
        "importancias = forest.feature_importances_\n",
        "importancias\n",
        "\n"
      ],
      "metadata": {
        "colab": {
          "base_uri": "https://localhost:8080/"
        },
        "id": "uE0vHnuGb8Cp",
        "outputId": "8e519ac2-be2b-4199-c318-abb4064c5059"
      },
      "execution_count": 13,
      "outputs": [
        {
          "output_type": "execute_result",
          "data": {
            "text/plain": [
              "array([0.10171275, 0.07971859, 0.07015188, 0.0594518 , 0.079797  ,\n",
              "       0.05300384, 0.05126846, 0.05259841, 0.04175576, 0.02804592,\n",
              "       0.04952956, 0.0460203 , 0.07110604, 0.04267569, 0.03545769,\n",
              "       0.03309283, 0.04193249, 0.02209339, 0.03378738, 0.00680023])"
            ]
          },
          "metadata": {},
          "execution_count": 13
        }
      ]
    },
    {
      "cell_type": "code",
      "source": [
        "#Criando nova base de dados usando os atributos mais importantes 0 é uma coluna 1 outra...\n",
        "x_treinamento2 =  x_treino[:,[0,1,2,3]]\n",
        "x_teste2 = x_teste[:,[0,1,2,3]]"
      ],
      "metadata": {
        "id": "b82Eu4Hkc9KO"
      },
      "execution_count": 16,
      "outputs": []
    },
    {
      "cell_type": "code",
      "source": [
        "x_treinamento2"
      ],
      "metadata": {
        "colab": {
          "base_uri": "https://localhost:8080/"
        },
        "id": "Xqrz2Nr0fgrr",
        "outputId": "66727202-7d97-479e-d846-620b81564091"
      },
      "execution_count": 17,
      "outputs": [
        {
          "output_type": "execute_result",
          "data": {
            "text/plain": [
              "array([[2, 24, 3, 7],\n",
              "       [0, 30, 1, 7],\n",
              "       [2, 18, 3, 4],\n",
              "       ...,\n",
              "       [0, 15, 2, 2],\n",
              "       [2, 24, 3, 7],\n",
              "       [3, 18, 3, 7]], dtype=object)"
            ]
          },
          "metadata": {},
          "execution_count": 17
        }
      ]
    },
    {
      "cell_type": "code",
      "source": [
        "#Criar modelo, performace treinamento e obtenção de previsões\n",
        "svm2 = SVC()\n",
        "svm2.fit(x_treinamento2, y_treino)\n",
        "previsoes2 = svm2.predict(x_teste2)\n",
        "taxa_acerto2 = accuracy_score(y_teste,previsoes2 )\n",
        "taxa_acerto2"
      ],
      "metadata": {
        "colab": {
          "base_uri": "https://localhost:8080/"
        },
        "id": "jupA1gbVfikl",
        "outputId": "d0e0577b-0806-4210-d468-e2e99ee8d9e1"
      },
      "execution_count": 19,
      "outputs": [
        {
          "output_type": "execute_result",
          "data": {
            "text/plain": [
              "0.7233333333333334"
            ]
          },
          "metadata": {},
          "execution_count": 19
        }
      ]
    }
  ]
}